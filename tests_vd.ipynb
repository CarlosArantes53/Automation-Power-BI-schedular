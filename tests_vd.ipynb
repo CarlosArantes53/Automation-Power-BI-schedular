{
 "cells": [
  {
   "cell_type": "code",
   "execution_count": 1,
   "id": "b06a4858",
   "metadata": {},
   "outputs": [],
   "source": [
    "import plotly.graph_objects as go\n",
    "import pandas as pd\n",
    "import numpy as np\n",
    "import matplotlib.pyplot as plt\n",
    "from matplotlib.sankey import Sankey"
   ]
  },
  {
   "cell_type": "code",
   "execution_count": 2,
   "id": "c887d97e",
   "metadata": {},
   "outputs": [],
   "source": [
    "colunas = [\n",
    "            \"ValorTotal\", \"DocNum\", \"ObjType\", \"LctoContabil\", \"DocEntry\", \n",
    "            \"CardCode\", \"CardName\", \"GroupCode\", \"GroupName\", \"SlpCode\", \n",
    "            \"SlpName\", \"Data\", \"BPLId\", \"FilialName\", \"PesoTotal\", \n",
    "            \"U_TU_QuemEntrega\", \"Latitude\", \"Longitude\", \"Rua\", \"NumRua\", \n",
    "            \"Complemento\", \"Bairro\", \"Cidade\", \"Estado\", \"Cep\"\n",
    "]\n",
    "\n",
    "force_text = [\n",
    "            \"ObjType\", \"LctoContabil\", \"CardCode\", \"CardName\", \n",
    "            \"GroupCode\", \"GroupName\", \"SlpCode\", \"SlpName\", \n",
    "            \"BPLId\", \"FilialName\", \"U_TU_QuemEntrega\", \"Latitude\", \n",
    "            \"Longitude\", \"Rua\", \"NumRua\", \"Complemento\", \"Bairro\", \n",
    "            \"Cidade\", \"Estado\", \"Cep\"\n",
    "]\n",
    "\n",
    "force_numeric = [\"ValorTotal\", \"PesoTotal\"]\n",
    "force_integer = [\"DocNum\", \"DocEntry\"]\n",
    "force_date = [\"Data\"]\n"
   ]
  },
  {
   "cell_type": "code",
   "execution_count": 3,
   "id": "f220206f",
   "metadata": {},
   "outputs": [
    {
     "data": {
      "text/html": [
       "<div>\n",
       "<style scoped>\n",
       "    .dataframe tbody tr th:only-of-type {\n",
       "        vertical-align: middle;\n",
       "    }\n",
       "\n",
       "    .dataframe tbody tr th {\n",
       "        vertical-align: top;\n",
       "    }\n",
       "\n",
       "    .dataframe thead th {\n",
       "        text-align: right;\n",
       "    }\n",
       "</style>\n",
       "<table border=\"1\" class=\"dataframe\">\n",
       "  <thead>\n",
       "    <tr style=\"text-align: right;\">\n",
       "      <th></th>\n",
       "      <th>ValorTotal</th>\n",
       "      <th>DocNum</th>\n",
       "      <th>ObjType</th>\n",
       "      <th>LctoContabil</th>\n",
       "      <th>DocEntry</th>\n",
       "      <th>CardCode</th>\n",
       "      <th>CardName</th>\n",
       "      <th>GroupCode</th>\n",
       "      <th>GroupName</th>\n",
       "      <th>SlpCode</th>\n",
       "      <th>...</th>\n",
       "      <th>Latitude</th>\n",
       "      <th>Longitude</th>\n",
       "      <th>Rua</th>\n",
       "      <th>NumRua</th>\n",
       "      <th>Complemento</th>\n",
       "      <th>Bairro</th>\n",
       "      <th>Cidade</th>\n",
       "      <th>Estado</th>\n",
       "      <th>Cep</th>\n",
       "      <th>UpdateTime</th>\n",
       "    </tr>\n",
       "  </thead>\n",
       "  <tbody>\n",
       "    <tr>\n",
       "      <th>0</th>\n",
       "      <td>5776.82</td>\n",
       "      <td>80787</td>\n",
       "      <td>13</td>\n",
       "      <td>406364</td>\n",
       "      <td>108863</td>\n",
       "      <td>C019677</td>\n",
       "      <td>MASTER SERRALHERIA LTDA</td>\n",
       "      <td>105.0</td>\n",
       "      <td>INDUSTRIALIZA GO</td>\n",
       "      <td>41.0</td>\n",
       "      <td>...</td>\n",
       "      <td>None</td>\n",
       "      <td>None</td>\n",
       "      <td>PRESIDENTE TANCREDO NEVES</td>\n",
       "      <td>445</td>\n",
       "      <td>QUADRA 07 LOTE 03A</td>\n",
       "      <td>SETOR PLANALTO</td>\n",
       "      <td>JATAI</td>\n",
       "      <td>GO</td>\n",
       "      <td>75805115</td>\n",
       "      <td>2025-07-21 08:19:12</td>\n",
       "    </tr>\n",
       "    <tr>\n",
       "      <th>1</th>\n",
       "      <td>321.71</td>\n",
       "      <td>18920</td>\n",
       "      <td>13</td>\n",
       "      <td>89826</td>\n",
       "      <td>27357</td>\n",
       "      <td>C000219</td>\n",
       "      <td>MAURILIO MACHADO VELOSO</td>\n",
       "      <td>102.0</td>\n",
       "      <td>CONS FINAL NAO CONT</td>\n",
       "      <td>2.0</td>\n",
       "      <td>...</td>\n",
       "      <td>None</td>\n",
       "      <td>None</td>\n",
       "      <td>TAMOYO</td>\n",
       "      <td>0</td>\n",
       "      <td>ESQUINA  COM  RUA ARAGUAIA</td>\n",
       "      <td>SANTO AGOSTINHO</td>\n",
       "      <td>RIO VERDE</td>\n",
       "      <td>GO</td>\n",
       "      <td>75904680</td>\n",
       "      <td>2023-07-14 15:54:48</td>\n",
       "    </tr>\n",
       "    <tr>\n",
       "      <th>2</th>\n",
       "      <td>2049.56</td>\n",
       "      <td>6724</td>\n",
       "      <td>13</td>\n",
       "      <td>31227</td>\n",
       "      <td>10896</td>\n",
       "      <td>C0020178</td>\n",
       "      <td>INSTITUTO DE PLANEJAMENTO DE SERVICOS ESPEC IPGSE</td>\n",
       "      <td>102.0</td>\n",
       "      <td>CONS FINAL NAO CONT</td>\n",
       "      <td>17.0</td>\n",
       "      <td>...</td>\n",
       "      <td>None</td>\n",
       "      <td>None</td>\n",
       "      <td>MANUEL DOS SANTOS</td>\n",
       "      <td>168</td>\n",
       "      <td>QUADRA N LOTE 12</td>\n",
       "      <td>PEDROLINA</td>\n",
       "      <td>SANTA HELENA DE GOIAS</td>\n",
       "      <td>GO</td>\n",
       "      <td>75920000</td>\n",
       "      <td>2023-04-04 17:57:49</td>\n",
       "    </tr>\n",
       "    <tr>\n",
       "      <th>3</th>\n",
       "      <td>492.66</td>\n",
       "      <td>34234</td>\n",
       "      <td>13</td>\n",
       "      <td>162138</td>\n",
       "      <td>47710</td>\n",
       "      <td>C013851</td>\n",
       "      <td>F METAL MONTAGEM E MANUTENCAO LTDA</td>\n",
       "      <td>105.0</td>\n",
       "      <td>INDUSTRIALIZA GO</td>\n",
       "      <td>2.0</td>\n",
       "      <td>...</td>\n",
       "      <td>None</td>\n",
       "      <td>None</td>\n",
       "      <td>PAU BRASIL</td>\n",
       "      <td>0</td>\n",
       "      <td>QUADRA53 LOTE 913 B</td>\n",
       "      <td>RESIDENCIAL VENEZA</td>\n",
       "      <td>RIO VERDE</td>\n",
       "      <td>GO</td>\n",
       "      <td>75910048</td>\n",
       "      <td>2023-12-08 10:43:11</td>\n",
       "    </tr>\n",
       "    <tr>\n",
       "      <th>4</th>\n",
       "      <td>65.00</td>\n",
       "      <td>82873</td>\n",
       "      <td>13</td>\n",
       "      <td>419591</td>\n",
       "      <td>111686</td>\n",
       "      <td>C0028853</td>\n",
       "      <td>SANTINHO DANIELEWZ</td>\n",
       "      <td>103.0</td>\n",
       "      <td>PRODUTOR RURAL</td>\n",
       "      <td>3.0</td>\n",
       "      <td>...</td>\n",
       "      <td>None</td>\n",
       "      <td>None</td>\n",
       "      <td>GO 174</td>\n",
       "      <td>0</td>\n",
       "      <td>SENTIDO AP DO RIO DOCE</td>\n",
       "      <td>ZONA RURAL</td>\n",
       "      <td>RIO VERDE</td>\n",
       "      <td>GO</td>\n",
       "      <td>75901970</td>\n",
       "      <td>2025-08-18 08:12:18</td>\n",
       "    </tr>\n",
       "    <tr>\n",
       "      <th>5</th>\n",
       "      <td>1106.22</td>\n",
       "      <td>72637</td>\n",
       "      <td>13</td>\n",
       "      <td>358513</td>\n",
       "      <td>97839</td>\n",
       "      <td>C008486</td>\n",
       "      <td>PEDRO HENRIQUE FORNOS ADRIAO LOURENCO 03759809111</td>\n",
       "      <td>104.0</td>\n",
       "      <td>CONSTRUTORA GO</td>\n",
       "      <td>28.0</td>\n",
       "      <td>...</td>\n",
       "      <td>None</td>\n",
       "      <td>None</td>\n",
       "      <td>SANTO ANTONIO</td>\n",
       "      <td>968</td>\n",
       "      <td>QUADRA 84 LOTE 16</td>\n",
       "      <td>VILA JARDIM RIO CLARO</td>\n",
       "      <td>JATAI</td>\n",
       "      <td>GO</td>\n",
       "      <td>75802021</td>\n",
       "      <td>2025-04-03 16:55:19</td>\n",
       "    </tr>\n",
       "    <tr>\n",
       "      <th>6</th>\n",
       "      <td>2125.50</td>\n",
       "      <td>48571</td>\n",
       "      <td>13</td>\n",
       "      <td>235373</td>\n",
       "      <td>66476</td>\n",
       "      <td>C000092</td>\n",
       "      <td>HIDRO VOLT MATERIAIS ELETRICOS E HIDRAULICOS LTDA</td>\n",
       "      <td>107.0</td>\n",
       "      <td>REVENDA</td>\n",
       "      <td>4.0</td>\n",
       "      <td>...</td>\n",
       "      <td>None</td>\n",
       "      <td>None</td>\n",
       "      <td>DAS TURMALINAS</td>\n",
       "      <td>339</td>\n",
       "      <td>QD 37 LT 04</td>\n",
       "      <td>PARQUE BANDEIRANTES</td>\n",
       "      <td>RIO VERDE</td>\n",
       "      <td>GO</td>\n",
       "      <td>None</td>\n",
       "      <td>2024-06-13 14:58:14</td>\n",
       "    </tr>\n",
       "    <tr>\n",
       "      <th>7</th>\n",
       "      <td>441.13</td>\n",
       "      <td>123664</td>\n",
       "      <td>15</td>\n",
       "      <td>136277</td>\n",
       "      <td>3197</td>\n",
       "      <td>C000955</td>\n",
       "      <td>EDUARDO RIBEIRO RALSTON</td>\n",
       "      <td>103.0</td>\n",
       "      <td>PRODUTOR RURAL</td>\n",
       "      <td>4.0</td>\n",
       "      <td>...</td>\n",
       "      <td>None</td>\n",
       "      <td>None</td>\n",
       "      <td>RIO VERDE</td>\n",
       "      <td>0</td>\n",
       "      <td>QD 08  LT 108</td>\n",
       "      <td>MORADA DA COLINA</td>\n",
       "      <td>MONTIVIDIU</td>\n",
       "      <td>GO</td>\n",
       "      <td>None</td>\n",
       "      <td>2023-10-11 14:33:15</td>\n",
       "    </tr>\n",
       "    <tr>\n",
       "      <th>8</th>\n",
       "      <td>1053.80</td>\n",
       "      <td>8748</td>\n",
       "      <td>13</td>\n",
       "      <td>41257</td>\n",
       "      <td>13631</td>\n",
       "      <td>C016181</td>\n",
       "      <td>ELISMAR ROSA DA SILVA 83238573187</td>\n",
       "      <td>104.0</td>\n",
       "      <td>CONSTRUTORA GO</td>\n",
       "      <td>17.0</td>\n",
       "      <td>...</td>\n",
       "      <td>None</td>\n",
       "      <td>None</td>\n",
       "      <td>223</td>\n",
       "      <td>0</td>\n",
       "      <td>QUADRA SD  LOTE 18</td>\n",
       "      <td>JARDIM SANTA HELENA</td>\n",
       "      <td>SANTA HELENA DE GOIAS</td>\n",
       "      <td>GO</td>\n",
       "      <td>75920000</td>\n",
       "      <td>2023-03-27 08:41:24</td>\n",
       "    </tr>\n",
       "    <tr>\n",
       "      <th>9</th>\n",
       "      <td>338.00</td>\n",
       "      <td>43398</td>\n",
       "      <td>13</td>\n",
       "      <td>211731</td>\n",
       "      <td>59973</td>\n",
       "      <td>C015778</td>\n",
       "      <td>EDILSON PROFIRO DAMASCENO</td>\n",
       "      <td>102.0</td>\n",
       "      <td>CONS FINAL NAO CONT</td>\n",
       "      <td>17.0</td>\n",
       "      <td>...</td>\n",
       "      <td>None</td>\n",
       "      <td>None</td>\n",
       "      <td>17</td>\n",
       "      <td>0</td>\n",
       "      <td>QUADRA 9 LOTE 247</td>\n",
       "      <td>RESIDENCIAL ATALIA</td>\n",
       "      <td>RIO VERDE</td>\n",
       "      <td>GO</td>\n",
       "      <td>75912075</td>\n",
       "      <td>2024-04-11 10:42:39</td>\n",
       "    </tr>\n",
       "  </tbody>\n",
       "</table>\n",
       "<p>10 rows × 29 columns</p>\n",
       "</div>"
      ],
      "text/plain": [
       "   ValorTotal  DocNum ObjType  LctoContabil  DocEntry  CardCode  \\\n",
       "0     5776.82   80787      13        406364    108863   C019677   \n",
       "1      321.71   18920      13         89826     27357   C000219   \n",
       "2     2049.56    6724      13         31227     10896  C0020178   \n",
       "3      492.66   34234      13        162138     47710   C013851   \n",
       "4       65.00   82873      13        419591    111686  C0028853   \n",
       "5     1106.22   72637      13        358513     97839   C008486   \n",
       "6     2125.50   48571      13        235373     66476   C000092   \n",
       "7      441.13  123664      15        136277      3197   C000955   \n",
       "8     1053.80    8748      13         41257     13631   C016181   \n",
       "9      338.00   43398      13        211731     59973   C015778   \n",
       "\n",
       "                                            CardName  GroupCode  \\\n",
       "0                            MASTER SERRALHERIA LTDA      105.0   \n",
       "1                            MAURILIO MACHADO VELOSO      102.0   \n",
       "2  INSTITUTO DE PLANEJAMENTO DE SERVICOS ESPEC IPGSE      102.0   \n",
       "3                 F METAL MONTAGEM E MANUTENCAO LTDA      105.0   \n",
       "4                                 SANTINHO DANIELEWZ      103.0   \n",
       "5  PEDRO HENRIQUE FORNOS ADRIAO LOURENCO 03759809111      104.0   \n",
       "6  HIDRO VOLT MATERIAIS ELETRICOS E HIDRAULICOS LTDA      107.0   \n",
       "7                            EDUARDO RIBEIRO RALSTON      103.0   \n",
       "8                  ELISMAR ROSA DA SILVA 83238573187      104.0   \n",
       "9                          EDILSON PROFIRO DAMASCENO      102.0   \n",
       "\n",
       "             GroupName  SlpCode  ... Latitude Longitude  \\\n",
       "0     INDUSTRIALIZA GO     41.0  ...     None      None   \n",
       "1  CONS FINAL NAO CONT      2.0  ...     None      None   \n",
       "2  CONS FINAL NAO CONT     17.0  ...     None      None   \n",
       "3     INDUSTRIALIZA GO      2.0  ...     None      None   \n",
       "4       PRODUTOR RURAL      3.0  ...     None      None   \n",
       "5       CONSTRUTORA GO     28.0  ...     None      None   \n",
       "6              REVENDA      4.0  ...     None      None   \n",
       "7       PRODUTOR RURAL      4.0  ...     None      None   \n",
       "8       CONSTRUTORA GO     17.0  ...     None      None   \n",
       "9  CONS FINAL NAO CONT     17.0  ...     None      None   \n",
       "\n",
       "                         Rua NumRua                 Complemento  \\\n",
       "0  PRESIDENTE TANCREDO NEVES    445          QUADRA 07 LOTE 03A   \n",
       "1                     TAMOYO      0  ESQUINA  COM  RUA ARAGUAIA   \n",
       "2          MANUEL DOS SANTOS    168            QUADRA N LOTE 12   \n",
       "3                 PAU BRASIL      0         QUADRA53 LOTE 913 B   \n",
       "4                     GO 174      0      SENTIDO AP DO RIO DOCE   \n",
       "5              SANTO ANTONIO    968           QUADRA 84 LOTE 16   \n",
       "6             DAS TURMALINAS    339                 QD 37 LT 04   \n",
       "7                  RIO VERDE      0               QD 08  LT 108   \n",
       "8                        223      0          QUADRA SD  LOTE 18   \n",
       "9                         17      0           QUADRA 9 LOTE 247   \n",
       "\n",
       "                  Bairro                 Cidade  Estado       Cep  \\\n",
       "0         SETOR PLANALTO                  JATAI      GO  75805115   \n",
       "1        SANTO AGOSTINHO              RIO VERDE      GO  75904680   \n",
       "2              PEDROLINA  SANTA HELENA DE GOIAS      GO  75920000   \n",
       "3     RESIDENCIAL VENEZA              RIO VERDE      GO  75910048   \n",
       "4             ZONA RURAL              RIO VERDE      GO  75901970   \n",
       "5  VILA JARDIM RIO CLARO                  JATAI      GO  75802021   \n",
       "6    PARQUE BANDEIRANTES              RIO VERDE      GO      None   \n",
       "7       MORADA DA COLINA             MONTIVIDIU      GO      None   \n",
       "8    JARDIM SANTA HELENA  SANTA HELENA DE GOIAS      GO  75920000   \n",
       "9     RESIDENCIAL ATALIA              RIO VERDE      GO  75912075   \n",
       "\n",
       "           UpdateTime  \n",
       "0 2025-07-21 08:19:12  \n",
       "1 2023-07-14 15:54:48  \n",
       "2 2023-04-04 17:57:49  \n",
       "3 2023-12-08 10:43:11  \n",
       "4 2025-08-18 08:12:18  \n",
       "5 2025-04-03 16:55:19  \n",
       "6 2024-06-13 14:58:14  \n",
       "7 2023-10-11 14:33:15  \n",
       "8 2023-03-27 08:41:24  \n",
       "9 2024-04-11 10:42:39  \n",
       "\n",
       "[10 rows x 29 columns]"
      ]
     },
     "execution_count": 3,
     "metadata": {},
     "output_type": "execute_result"
    }
   ],
   "source": [
    "parquet_path = \"data//analise_venda_head.parquet\"\n",
    "\n",
    "df = pd.read_parquet(parquet_path)\n",
    "\n",
    "df.head(10)"
   ]
  },
  {
   "cell_type": "code",
   "execution_count": 7,
   "id": "5c6536d1",
   "metadata": {},
   "outputs": [
    {
     "data": {
      "application/vnd.plotly.v1+json": {
       "config": {
        "plotlyServerURL": "https://plot.ly"
       },
       "data": [
        {
         "link": {
          "source": [
           0,
           1,
           2,
           3,
           4,
           5,
           6,
           7,
           8,
           9,
           10,
           11,
           12,
           13,
           14,
           14,
           14,
           14,
           14,
           14,
           14,
           14,
           14,
           14,
           14,
           14,
           14,
           14,
           14,
           14,
           14,
           14,
           14
          ],
          "target": [
           14,
           14,
           14,
           14,
           14,
           14,
           14,
           14,
           14,
           14,
           14,
           14,
           14,
           14,
           15,
           16,
           17,
           18,
           19,
           20,
           21,
           22,
           23,
           24,
           25,
           26,
           27,
           28,
           29,
           30,
           31,
           32,
           33
          ],
          "value": [
           1324580.34,
           9592422.83,
           12403749.16,
           12006143.3,
           250816.56,
           47744.43,
           10821104.45,
           203843.02,
           7893.66,
           19900623.38,
           2424737.96,
           376378.99,
           6298766.49,
           109968.1,
           4623.250000000003,
           6997006.14,
           842313.35,
           61931.8,
           2964.52,
           7697911.41,
           -77747.36,
           167113.82,
           1857933.8,
           2304453.9899999998,
           7257241.54,
           1615568.43,
           7436025.94,
           5553982.4,
           14002.78,
           23239642.88,
           0,
           -15110.59,
           10808914.57
          ]
         },
         "node": {
          "color": "royalblue",
          "label": [
           "CONS FINAL CONT. INT<br><b>R$ 1.3M - 1.8%</b>",
           "CONS FINAL CONTRIB<br><b>R$ 9.6M - 12.7%</b>",
           "CONS FINAL NAO CONT<br><b>R$ 12.4M - 16.4%</b>",
           "CONSTRUTORA GO<br><b>R$ 12.0M - 15.9%</b>",
           "CONSTRUTORA INTER<br><b>R$ 250.8K - 0.3%</b>",
           "HOSPITAIS/CLINICAS<br><b>R$ 47.7K - 0.1%</b>",
           "INDUSTRIALIZA GO<br><b>R$ 10.8M - 14.3%</b>",
           "INDUSTRIZA INTER<br><b>R$ 203.8K - 0.3%</b>",
           "ORGAOS PUBLICOS C<br><b>R$ 7.9K - 0.0%</b>",
           "PRODUTOR RURAL<br><b>R$ 19.9M - 26.3%</b>",
           "PRODUZIR GO<br><b>R$ 2.4M - 3.2%</b>",
           "REDUCAO PRODUZIR<br><b>R$ 376.4K - 0.5%</b>",
           "REVENDA<br><b>R$ 6.3M - 8.3%</b>",
           "REVENDA INTER<br><b>R$ 110.0K - 0.1%</b>",
           "Faturamento Total 2025<br><b>R$ 75.6M - 100.0%</b>",
           "-Nenhum vendedor-<br><b>R$ 4.6K - 0.0%</b>",
           "Adriana Ramos Pereira<br><b>R$ 7.0M - 9.2%</b>",
           "Arony Hemerson Sousa Araujo<br><b>R$ 842.3K - 1.1%</b>",
           "Clayton Batista Ferreira<br><b>R$ 61.9K - 0.1%</b>",
           "Eduardo Arantes<br><b>R$ 3.0K - 0.0%</b>",
           "Elson Pires<br><b>R$ 7.7M - 10.2%</b>",
           "Financeiro<br><b>R$ -77747.36 - -0.1%</b>",
           "Gildenei Carvalho Freire<br><b>R$ 167.1K - 0.2%</b>",
           "Gustavo Braz<br><b>R$ 1.9M - 2.5%</b>",
           "Isac Tavares Santo<br><b>R$ 2.3M - 3.0%</b>",
           "Josimar Mendes Santos<br><b>R$ 7.3M - 9.6%</b>",
           "Kayque Santos Silva<br><b>R$ 1.6M - 2.1%</b>",
           "Matheus Rodrigues<br><b>R$ 7.4M - 9.8%</b>",
           "Oswaldo Jose Silva<br><b>R$ 5.6M - 7.3%</b>",
           "Petrik Martins dos Santos<br><b>R$ 14.0K - 0.0%</b>",
           "Ricardo Alves<br><b>R$ 23.2M - 30.7%</b>",
           "Shellem Cristina Oliveira Araujo<br><b>R$ 0.00 - 0.0%</b>",
           "Silfarney<br><b>R$ -15110.59 - -0.0%</b>",
           "Thalisson Aparecido<br><b>R$ 10.8M - 14.3%</b>"
          ],
          "line": {
           "color": "black",
           "width": 0.5
          },
          "pad": 25,
          "thickness": 20
         },
         "type": "sankey"
        }
       ],
       "layout": {
        "font": {
         "size": 12
        },
        "height": 600,
        "template": {
         "data": {
          "bar": [
           {
            "error_x": {
             "color": "#2a3f5f"
            },
            "error_y": {
             "color": "#2a3f5f"
            },
            "marker": {
             "line": {
              "color": "#E5ECF6",
              "width": 0.5
             },
             "pattern": {
              "fillmode": "overlay",
              "size": 10,
              "solidity": 0.2
             }
            },
            "type": "bar"
           }
          ],
          "barpolar": [
           {
            "marker": {
             "line": {
              "color": "#E5ECF6",
              "width": 0.5
             },
             "pattern": {
              "fillmode": "overlay",
              "size": 10,
              "solidity": 0.2
             }
            },
            "type": "barpolar"
           }
          ],
          "carpet": [
           {
            "aaxis": {
             "endlinecolor": "#2a3f5f",
             "gridcolor": "white",
             "linecolor": "white",
             "minorgridcolor": "white",
             "startlinecolor": "#2a3f5f"
            },
            "baxis": {
             "endlinecolor": "#2a3f5f",
             "gridcolor": "white",
             "linecolor": "white",
             "minorgridcolor": "white",
             "startlinecolor": "#2a3f5f"
            },
            "type": "carpet"
           }
          ],
          "choropleth": [
           {
            "colorbar": {
             "outlinewidth": 0,
             "ticks": ""
            },
            "type": "choropleth"
           }
          ],
          "contour": [
           {
            "colorbar": {
             "outlinewidth": 0,
             "ticks": ""
            },
            "colorscale": [
             [
              0,
              "#0d0887"
             ],
             [
              0.1111111111111111,
              "#46039f"
             ],
             [
              0.2222222222222222,
              "#7201a8"
             ],
             [
              0.3333333333333333,
              "#9c179e"
             ],
             [
              0.4444444444444444,
              "#bd3786"
             ],
             [
              0.5555555555555556,
              "#d8576b"
             ],
             [
              0.6666666666666666,
              "#ed7953"
             ],
             [
              0.7777777777777778,
              "#fb9f3a"
             ],
             [
              0.8888888888888888,
              "#fdca26"
             ],
             [
              1,
              "#f0f921"
             ]
            ],
            "type": "contour"
           }
          ],
          "contourcarpet": [
           {
            "colorbar": {
             "outlinewidth": 0,
             "ticks": ""
            },
            "type": "contourcarpet"
           }
          ],
          "heatmap": [
           {
            "colorbar": {
             "outlinewidth": 0,
             "ticks": ""
            },
            "colorscale": [
             [
              0,
              "#0d0887"
             ],
             [
              0.1111111111111111,
              "#46039f"
             ],
             [
              0.2222222222222222,
              "#7201a8"
             ],
             [
              0.3333333333333333,
              "#9c179e"
             ],
             [
              0.4444444444444444,
              "#bd3786"
             ],
             [
              0.5555555555555556,
              "#d8576b"
             ],
             [
              0.6666666666666666,
              "#ed7953"
             ],
             [
              0.7777777777777778,
              "#fb9f3a"
             ],
             [
              0.8888888888888888,
              "#fdca26"
             ],
             [
              1,
              "#f0f921"
             ]
            ],
            "type": "heatmap"
           }
          ],
          "histogram": [
           {
            "marker": {
             "pattern": {
              "fillmode": "overlay",
              "size": 10,
              "solidity": 0.2
             }
            },
            "type": "histogram"
           }
          ],
          "histogram2d": [
           {
            "colorbar": {
             "outlinewidth": 0,
             "ticks": ""
            },
            "colorscale": [
             [
              0,
              "#0d0887"
             ],
             [
              0.1111111111111111,
              "#46039f"
             ],
             [
              0.2222222222222222,
              "#7201a8"
             ],
             [
              0.3333333333333333,
              "#9c179e"
             ],
             [
              0.4444444444444444,
              "#bd3786"
             ],
             [
              0.5555555555555556,
              "#d8576b"
             ],
             [
              0.6666666666666666,
              "#ed7953"
             ],
             [
              0.7777777777777778,
              "#fb9f3a"
             ],
             [
              0.8888888888888888,
              "#fdca26"
             ],
             [
              1,
              "#f0f921"
             ]
            ],
            "type": "histogram2d"
           }
          ],
          "histogram2dcontour": [
           {
            "colorbar": {
             "outlinewidth": 0,
             "ticks": ""
            },
            "colorscale": [
             [
              0,
              "#0d0887"
             ],
             [
              0.1111111111111111,
              "#46039f"
             ],
             [
              0.2222222222222222,
              "#7201a8"
             ],
             [
              0.3333333333333333,
              "#9c179e"
             ],
             [
              0.4444444444444444,
              "#bd3786"
             ],
             [
              0.5555555555555556,
              "#d8576b"
             ],
             [
              0.6666666666666666,
              "#ed7953"
             ],
             [
              0.7777777777777778,
              "#fb9f3a"
             ],
             [
              0.8888888888888888,
              "#fdca26"
             ],
             [
              1,
              "#f0f921"
             ]
            ],
            "type": "histogram2dcontour"
           }
          ],
          "mesh3d": [
           {
            "colorbar": {
             "outlinewidth": 0,
             "ticks": ""
            },
            "type": "mesh3d"
           }
          ],
          "parcoords": [
           {
            "line": {
             "colorbar": {
              "outlinewidth": 0,
              "ticks": ""
             }
            },
            "type": "parcoords"
           }
          ],
          "pie": [
           {
            "automargin": true,
            "type": "pie"
           }
          ],
          "scatter": [
           {
            "fillpattern": {
             "fillmode": "overlay",
             "size": 10,
             "solidity": 0.2
            },
            "type": "scatter"
           }
          ],
          "scatter3d": [
           {
            "line": {
             "colorbar": {
              "outlinewidth": 0,
              "ticks": ""
             }
            },
            "marker": {
             "colorbar": {
              "outlinewidth": 0,
              "ticks": ""
             }
            },
            "type": "scatter3d"
           }
          ],
          "scattercarpet": [
           {
            "marker": {
             "colorbar": {
              "outlinewidth": 0,
              "ticks": ""
             }
            },
            "type": "scattercarpet"
           }
          ],
          "scattergeo": [
           {
            "marker": {
             "colorbar": {
              "outlinewidth": 0,
              "ticks": ""
             }
            },
            "type": "scattergeo"
           }
          ],
          "scattergl": [
           {
            "marker": {
             "colorbar": {
              "outlinewidth": 0,
              "ticks": ""
             }
            },
            "type": "scattergl"
           }
          ],
          "scattermap": [
           {
            "marker": {
             "colorbar": {
              "outlinewidth": 0,
              "ticks": ""
             }
            },
            "type": "scattermap"
           }
          ],
          "scattermapbox": [
           {
            "marker": {
             "colorbar": {
              "outlinewidth": 0,
              "ticks": ""
             }
            },
            "type": "scattermapbox"
           }
          ],
          "scatterpolar": [
           {
            "marker": {
             "colorbar": {
              "outlinewidth": 0,
              "ticks": ""
             }
            },
            "type": "scatterpolar"
           }
          ],
          "scatterpolargl": [
           {
            "marker": {
             "colorbar": {
              "outlinewidth": 0,
              "ticks": ""
             }
            },
            "type": "scatterpolargl"
           }
          ],
          "scatterternary": [
           {
            "marker": {
             "colorbar": {
              "outlinewidth": 0,
              "ticks": ""
             }
            },
            "type": "scatterternary"
           }
          ],
          "surface": [
           {
            "colorbar": {
             "outlinewidth": 0,
             "ticks": ""
            },
            "colorscale": [
             [
              0,
              "#0d0887"
             ],
             [
              0.1111111111111111,
              "#46039f"
             ],
             [
              0.2222222222222222,
              "#7201a8"
             ],
             [
              0.3333333333333333,
              "#9c179e"
             ],
             [
              0.4444444444444444,
              "#bd3786"
             ],
             [
              0.5555555555555556,
              "#d8576b"
             ],
             [
              0.6666666666666666,
              "#ed7953"
             ],
             [
              0.7777777777777778,
              "#fb9f3a"
             ],
             [
              0.8888888888888888,
              "#fdca26"
             ],
             [
              1,
              "#f0f921"
             ]
            ],
            "type": "surface"
           }
          ],
          "table": [
           {
            "cells": {
             "fill": {
              "color": "#EBF0F8"
             },
             "line": {
              "color": "white"
             }
            },
            "header": {
             "fill": {
              "color": "#C8D4E3"
             },
             "line": {
              "color": "white"
             }
            },
            "type": "table"
           }
          ]
         },
         "layout": {
          "annotationdefaults": {
           "arrowcolor": "#2a3f5f",
           "arrowhead": 0,
           "arrowwidth": 1
          },
          "autotypenumbers": "strict",
          "coloraxis": {
           "colorbar": {
            "outlinewidth": 0,
            "ticks": ""
           }
          },
          "colorscale": {
           "diverging": [
            [
             0,
             "#8e0152"
            ],
            [
             0.1,
             "#c51b7d"
            ],
            [
             0.2,
             "#de77ae"
            ],
            [
             0.3,
             "#f1b6da"
            ],
            [
             0.4,
             "#fde0ef"
            ],
            [
             0.5,
             "#f7f7f7"
            ],
            [
             0.6,
             "#e6f5d0"
            ],
            [
             0.7,
             "#b8e186"
            ],
            [
             0.8,
             "#7fbc41"
            ],
            [
             0.9,
             "#4d9221"
            ],
            [
             1,
             "#276419"
            ]
           ],
           "sequential": [
            [
             0,
             "#0d0887"
            ],
            [
             0.1111111111111111,
             "#46039f"
            ],
            [
             0.2222222222222222,
             "#7201a8"
            ],
            [
             0.3333333333333333,
             "#9c179e"
            ],
            [
             0.4444444444444444,
             "#bd3786"
            ],
            [
             0.5555555555555556,
             "#d8576b"
            ],
            [
             0.6666666666666666,
             "#ed7953"
            ],
            [
             0.7777777777777778,
             "#fb9f3a"
            ],
            [
             0.8888888888888888,
             "#fdca26"
            ],
            [
             1,
             "#f0f921"
            ]
           ],
           "sequentialminus": [
            [
             0,
             "#0d0887"
            ],
            [
             0.1111111111111111,
             "#46039f"
            ],
            [
             0.2222222222222222,
             "#7201a8"
            ],
            [
             0.3333333333333333,
             "#9c179e"
            ],
            [
             0.4444444444444444,
             "#bd3786"
            ],
            [
             0.5555555555555556,
             "#d8576b"
            ],
            [
             0.6666666666666666,
             "#ed7953"
            ],
            [
             0.7777777777777778,
             "#fb9f3a"
            ],
            [
             0.8888888888888888,
             "#fdca26"
            ],
            [
             1,
             "#f0f921"
            ]
           ]
          },
          "colorway": [
           "#636efa",
           "#EF553B",
           "#00cc96",
           "#ab63fa",
           "#FFA15A",
           "#19d3f3",
           "#FF6692",
           "#B6E880",
           "#FF97FF",
           "#FECB52"
          ],
          "font": {
           "color": "#2a3f5f"
          },
          "geo": {
           "bgcolor": "white",
           "lakecolor": "white",
           "landcolor": "#E5ECF6",
           "showlakes": true,
           "showland": true,
           "subunitcolor": "white"
          },
          "hoverlabel": {
           "align": "left"
          },
          "hovermode": "closest",
          "mapbox": {
           "style": "light"
          },
          "paper_bgcolor": "white",
          "plot_bgcolor": "#E5ECF6",
          "polar": {
           "angularaxis": {
            "gridcolor": "white",
            "linecolor": "white",
            "ticks": ""
           },
           "bgcolor": "#E5ECF6",
           "radialaxis": {
            "gridcolor": "white",
            "linecolor": "white",
            "ticks": ""
           }
          },
          "scene": {
           "xaxis": {
            "backgroundcolor": "#E5ECF6",
            "gridcolor": "white",
            "gridwidth": 2,
            "linecolor": "white",
            "showbackground": true,
            "ticks": "",
            "zerolinecolor": "white"
           },
           "yaxis": {
            "backgroundcolor": "#E5ECF6",
            "gridcolor": "white",
            "gridwidth": 2,
            "linecolor": "white",
            "showbackground": true,
            "ticks": "",
            "zerolinecolor": "white"
           },
           "zaxis": {
            "backgroundcolor": "#E5ECF6",
            "gridcolor": "white",
            "gridwidth": 2,
            "linecolor": "white",
            "showbackground": true,
            "ticks": "",
            "zerolinecolor": "white"
           }
          },
          "shapedefaults": {
           "line": {
            "color": "#2a3f5f"
           }
          },
          "ternary": {
           "aaxis": {
            "gridcolor": "white",
            "linecolor": "white",
            "ticks": ""
           },
           "baxis": {
            "gridcolor": "white",
            "linecolor": "white",
            "ticks": ""
           },
           "bgcolor": "#E5ECF6",
           "caxis": {
            "gridcolor": "white",
            "linecolor": "white",
            "ticks": ""
           }
          },
          "title": {
           "x": 0.05
          },
          "xaxis": {
           "automargin": true,
           "gridcolor": "white",
           "linecolor": "white",
           "ticks": "",
           "title": {
            "standoff": 15
           },
           "zerolinecolor": "white",
           "zerolinewidth": 2
          },
          "yaxis": {
           "automargin": true,
           "gridcolor": "white",
           "linecolor": "white",
           "ticks": "",
           "title": {
            "standoff": 15
           },
           "zerolinecolor": "white",
           "zerolinewidth": 2
          }
         }
        },
        "title": {
         "text": "Fluxo de Faturamento: Grupo de Clientes para Vendedores (Ano: 2025)"
        }
       }
      }
     },
     "metadata": {},
     "output_type": "display_data"
    }
   ],
   "source": [
    "import pandas as pd\n",
    "import plotly.graph_objects as go\n",
    "import numpy as np\n",
    "\n",
    "parquet_path = \"data//analise_venda_head.parquet\"\n",
    "df = pd.read_parquet(parquet_path)\n",
    "df['Data'] = pd.to_datetime(df['Data'])\n",
    "\n",
    "\n",
    "df_2025 = df[df['Data'].dt.year == 2025].copy()\n",
    "\n",
    "# Tratamento para caso não haja dados em 2025\n",
    "if df_2025.empty:\n",
    "    print(\"Não foram encontrados dados para o ano de 2025.\")\n",
    "else:\n",
    "    # --- 3. Preparação dos Dados para o Gráfico Sankey ---\n",
    "\n",
    "    # Calcular o faturamento total de 2025\n",
    "    total_faturamento_2025 = df_2025['ValorTotal'].sum()\n",
    "\n",
    "    # Agregar dados por Grupo de Cliente (Source)\n",
    "    source_data = df_2025.groupby('GroupName')['ValorTotal'].sum().reset_index()\n",
    "    source_data.rename(columns={'ValorTotal': 'Valor'}, inplace=True)\n",
    "\n",
    "    # Agregar dados por Vendedor (Target)\n",
    "    target_data = df_2025.groupby('SlpName')['ValorTotal'].sum().reset_index()\n",
    "    target_data.rename(columns={'ValorTotal': 'Valor'}, inplace=True)\n",
    "\n",
    "    # Criar a lista de todos os nós (labels)\n",
    "    all_labels = list(source_data['GroupName']) + ['Faturamento Total 2025'] + list(target_data['SlpName'])\n",
    "    \n",
    "    # Criar um dicionário para mapear label para índice\n",
    "    label_to_index = {label: i for i, label in enumerate(all_labels)}\n",
    "    \n",
    "    # Criar os links\n",
    "    # Fluxo 1: Grupo de Cliente -> Faturamento Total\n",
    "    sources = [label_to_index[name] for name in source_data['GroupName']]\n",
    "    targets = [label_to_index['Faturamento Total 2025']] * len(source_data)\n",
    "    values = list(source_data['Valor'])\n",
    "    \n",
    "    # Fluxo 2: Faturamento Total -> Vendedor\n",
    "    sources.extend([label_to_index['Faturamento Total 2025']] * len(target_data))\n",
    "    targets.extend([label_to_index[name] for name in target_data['SlpName']])\n",
    "    values.extend(list(target_data['Valor']))\n",
    "\n",
    "    # --- 4. Formatação dos Rótulos dos Nós (com Valor e Porcentagem) ---\n",
    "    \n",
    "    # Dicionário com o valor total de cada nó\n",
    "    node_values = {**pd.Series(source_data.Valor.values, index=source_data.GroupName).to_dict(),\n",
    "                   **{'Faturamento Total 2025': total_faturamento_2025},\n",
    "                   **pd.Series(target_data.Valor.values, index=target_data.SlpName).to_dict()}\n",
    "                   \n",
    "    # Função para formatar o valor monetário\n",
    "    def format_currency(value):\n",
    "        if value >= 1_000_000:\n",
    "            return f'R$ {value/1_000_000:.1f}M'\n",
    "        if value >= 1_000:\n",
    "            return f'R$ {value/1_000:.1f}K'\n",
    "        return f'R$ {value:.2f}'\n",
    "\n",
    "    # Criar os rótulos formatados\n",
    "    formatted_labels = []\n",
    "    for label in all_labels:\n",
    "        value = node_values[label]\n",
    "        percentage = (value / total_faturamento_2025) * 100\n",
    "        formatted_labels.append(f\"{label}<br><b>{format_currency(value)} - {percentage:.1f}%</b>\")\n",
    "\n",
    "    # --- 5. Criação do Gráfico Sankey ---\n",
    "    fig = go.Figure(data=[go.Sankey(\n",
    "        node=dict(\n",
    "            pad=25,\n",
    "            thickness=20,\n",
    "            line=dict(color=\"black\", width=0.5),\n",
    "            label=formatted_labels,\n",
    "            color=\"royalblue\"\n",
    "        ),\n",
    "        link=dict(\n",
    "            source=sources,\n",
    "            target=targets,\n",
    "            value=values\n",
    "        )\n",
    "    )])\n",
    "\n",
    "    fig.update_layout(\n",
    "        title_text=\"Fluxo de Faturamento: Grupo de Clientes para Vendedores (Ano: 2025)\",\n",
    "        font_size=12,\n",
    "        height=600 # Ajuste a altura conforme necessário\n",
    "    )\n",
    "\n",
    "    fig.show()"
   ]
  }
 ],
 "metadata": {
  "kernelspec": {
   "display_name": "env",
   "language": "python",
   "name": "python3"
  },
  "language_info": {
   "codemirror_mode": {
    "name": "ipython",
    "version": 3
   },
   "file_extension": ".py",
   "mimetype": "text/x-python",
   "name": "python",
   "nbconvert_exporter": "python",
   "pygments_lexer": "ipython3",
   "version": "3.13.5"
  }
 },
 "nbformat": 4,
 "nbformat_minor": 5
}
