{
 "cells": [
  {
   "cell_type": "code",
   "execution_count": 2,
   "id": "5781542d",
   "metadata": {},
   "outputs": [],
   "source": [
    "import pandas as pd\n",
    "import matplotlib.pyplot as plt\n",
    "import matplotlib.dates as mdates\n",
    "from datetime import datetime, time\n",
    "\n",
    "%matplotlib inline"
   ]
  },
  {
   "cell_type": "code",
   "execution_count": 3,
   "id": "dca183b6",
   "metadata": {},
   "outputs": [
    {
     "data": {
      "text/html": [
       "<div>\n",
       "<style scoped>\n",
       "    .dataframe tbody tr th:only-of-type {\n",
       "        vertical-align: middle;\n",
       "    }\n",
       "\n",
       "    .dataframe tbody tr th {\n",
       "        vertical-align: top;\n",
       "    }\n",
       "\n",
       "    .dataframe thead th {\n",
       "        text-align: right;\n",
       "    }\n",
       "</style>\n",
       "<table border=\"1\" class=\"dataframe\">\n",
       "  <thead>\n",
       "    <tr style=\"text-align: right;\">\n",
       "      <th></th>\n",
       "      <th>AbsEntry</th>\n",
       "      <th>CardCode</th>\n",
       "      <th>CardName</th>\n",
       "      <th>BaseObject</th>\n",
       "      <th>ItemCode</th>\n",
       "      <th>ItemName</th>\n",
       "      <th>SWeight1</th>\n",
       "      <th>UomCode</th>\n",
       "      <th>RelQtty</th>\n",
       "      <th>U_TU_QuemEntrega</th>\n",
       "      <th>...</th>\n",
       "      <th>U_SPS_Longitude</th>\n",
       "      <th>U_GI_Rua</th>\n",
       "      <th>U_GI_NumRua</th>\n",
       "      <th>U_GI_Complemento</th>\n",
       "      <th>U_GI_Bairro</th>\n",
       "      <th>U_GI_Cidade</th>\n",
       "      <th>U_GI_Estado</th>\n",
       "      <th>U_GI_Cep</th>\n",
       "      <th>ShipDate</th>\n",
       "      <th>Localizacao</th>\n",
       "    </tr>\n",
       "  </thead>\n",
       "  <tbody>\n",
       "    <tr>\n",
       "      <th>0</th>\n",
       "      <td>91552</td>\n",
       "      <td>C0028056</td>\n",
       "      <td>CARLOS EDUARDO OLIVEIRA CRUVINEL</td>\n",
       "      <td>17</td>\n",
       "      <td>PA00662</td>\n",
       "      <td>METALON PA 1.20 - 30 X 20  6MT</td>\n",
       "      <td>5.550000</td>\n",
       "      <td>BARRA</td>\n",
       "      <td>52.0</td>\n",
       "      <td>01</td>\n",
       "      <td>...</td>\n",
       "      <td>-50.9008171/-17.8511513</td>\n",
       "      <td>402</td>\n",
       "      <td>0.0</td>\n",
       "      <td>QD 25 LT 10</td>\n",
       "      <td>ZONA RURAL</td>\n",
       "      <td>RIO VERDE</td>\n",
       "      <td>GO</td>\n",
       "      <td>75911040</td>\n",
       "      <td>2025-06-30</td>\n",
       "      <td>G1 - B</td>\n",
       "    </tr>\n",
       "    <tr>\n",
       "      <th>1</th>\n",
       "      <td>91552</td>\n",
       "      <td>C0028056</td>\n",
       "      <td>CARLOS EDUARDO OLIVEIRA CRUVINEL</td>\n",
       "      <td>17</td>\n",
       "      <td>PA00660</td>\n",
       "      <td>METALON PA 1.20 - 20 X 20  6MT</td>\n",
       "      <td>4.360000</td>\n",
       "      <td>BARRA</td>\n",
       "      <td>6.0</td>\n",
       "      <td>01</td>\n",
       "      <td>...</td>\n",
       "      <td>-50.9008171/-17.8511513</td>\n",
       "      <td>402</td>\n",
       "      <td>0.0</td>\n",
       "      <td>QD 25 LT 10</td>\n",
       "      <td>ZONA RURAL</td>\n",
       "      <td>RIO VERDE</td>\n",
       "      <td>GO</td>\n",
       "      <td>75911040</td>\n",
       "      <td>2025-06-30</td>\n",
       "      <td>G1 - B</td>\n",
       "    </tr>\n",
       "    <tr>\n",
       "      <th>2</th>\n",
       "      <td>96641</td>\n",
       "      <td>C001107</td>\n",
       "      <td>RIOFER INDUSTRIAL LTDA</td>\n",
       "      <td>17</td>\n",
       "      <td>PA00158</td>\n",
       "      <td>VERGALHÃO DOB-R  5,00MM CA60 12MT</td>\n",
       "      <td>1.800000</td>\n",
       "      <td>BARRA</td>\n",
       "      <td>1.0</td>\n",
       "      <td>00</td>\n",
       "      <td>...</td>\n",
       "      <td>None</td>\n",
       "      <td>None</td>\n",
       "      <td>NaN</td>\n",
       "      <td>None</td>\n",
       "      <td>None</td>\n",
       "      <td>None</td>\n",
       "      <td>None</td>\n",
       "      <td>None</td>\n",
       "      <td>NaT</td>\n",
       "      <td>G2</td>\n",
       "    </tr>\n",
       "    <tr>\n",
       "      <th>3</th>\n",
       "      <td>96641</td>\n",
       "      <td>C020504</td>\n",
       "      <td>JORGE LUIZ DA SILVA</td>\n",
       "      <td>17</td>\n",
       "      <td>PA00293</td>\n",
       "      <td>PERFIL_CE TRILHO U  2.00 - 55 X 40  3MT</td>\n",
       "      <td>6.110000</td>\n",
       "      <td>BARRA</td>\n",
       "      <td>1.0</td>\n",
       "      <td>01</td>\n",
       "      <td>...</td>\n",
       "      <td>None</td>\n",
       "      <td>MARIA MERCEDES FERREIRA</td>\n",
       "      <td>NaN</td>\n",
       "      <td>QD 19 LT 26</td>\n",
       "      <td>BLANDINA</td>\n",
       "      <td>SANTA HELENA DE GOIAS</td>\n",
       "      <td>GO</td>\n",
       "      <td>75920000</td>\n",
       "      <td>2025-05-12</td>\n",
       "      <td>G1 - C</td>\n",
       "    </tr>\n",
       "    <tr>\n",
       "      <th>4</th>\n",
       "      <td>100299</td>\n",
       "      <td>C0020909</td>\n",
       "      <td>ACM ENGENHARIA LTDA</td>\n",
       "      <td>17</td>\n",
       "      <td>PA00029</td>\n",
       "      <td>PERFIL U 200X50 #13 6MT CIVIL 300</td>\n",
       "      <td>31.309999</td>\n",
       "      <td>BARRA</td>\n",
       "      <td>1.0</td>\n",
       "      <td>01</td>\n",
       "      <td>...</td>\n",
       "      <td>None</td>\n",
       "      <td>TOBIAS DO RESTAURANTE</td>\n",
       "      <td>0.0</td>\n",
       "      <td>QD 10 LT 6</td>\n",
       "      <td>DIMPE</td>\n",
       "      <td>RIO VERDE</td>\n",
       "      <td>GO</td>\n",
       "      <td>None</td>\n",
       "      <td>2025-07-07</td>\n",
       "      <td>G1 - B</td>\n",
       "    </tr>\n",
       "    <tr>\n",
       "      <th>5</th>\n",
       "      <td>102402</td>\n",
       "      <td>C0025303</td>\n",
       "      <td>CASA DO CALHEIRO MINEIROS LTDA</td>\n",
       "      <td>17</td>\n",
       "      <td>PA00089</td>\n",
       "      <td>CORRUGADA BANDEJA   1.20MM  320 X 6 MT</td>\n",
       "      <td>21.379999</td>\n",
       "      <td>UNIDADE</td>\n",
       "      <td>17.0</td>\n",
       "      <td>02</td>\n",
       "      <td>...</td>\n",
       "      <td>None</td>\n",
       "      <td>JOAQUIM TEODORO MARTINS</td>\n",
       "      <td>0.0</td>\n",
       "      <td>QUADRA05 LOTE 01</td>\n",
       "      <td>RESIDENCIAL SANTA MARIA</td>\n",
       "      <td>MINEIROS</td>\n",
       "      <td>GO</td>\n",
       "      <td>75835332</td>\n",
       "      <td>2025-07-26</td>\n",
       "      <td>G1 - C</td>\n",
       "    </tr>\n",
       "    <tr>\n",
       "      <th>6</th>\n",
       "      <td>102895</td>\n",
       "      <td>C0029256</td>\n",
       "      <td>IRMAOS CABRAL CENTER LTDA</td>\n",
       "      <td>13</td>\n",
       "      <td>RV00082</td>\n",
       "      <td>TUBO RED IND 101,6-4\"   CH 2,00 - 6 MT</td>\n",
       "      <td>30.500000</td>\n",
       "      <td>BARRA</td>\n",
       "      <td>1.0</td>\n",
       "      <td>02</td>\n",
       "      <td>...</td>\n",
       "      <td>None</td>\n",
       "      <td>RIACHUELO</td>\n",
       "      <td>3023.0</td>\n",
       "      <td>QUADRA012F LOTE 8E09</td>\n",
       "      <td>VILA FATIMA</td>\n",
       "      <td>JATAI</td>\n",
       "      <td>GO</td>\n",
       "      <td>75803050</td>\n",
       "      <td>2025-07-24</td>\n",
       "      <td>G1 - B</td>\n",
       "    </tr>\n",
       "    <tr>\n",
       "      <th>7</th>\n",
       "      <td>103868</td>\n",
       "      <td>C000123</td>\n",
       "      <td>COMERCIAL SARICO MATERIAIS PARA CONSTRUCAO EIR...</td>\n",
       "      <td>13</td>\n",
       "      <td>RV00278</td>\n",
       "      <td>PARAF HARD 12  14 X 3/4 TELHA-TERÇA-8201  100 PC</td>\n",
       "      <td>0.500000</td>\n",
       "      <td>PACOTE</td>\n",
       "      <td>15.0</td>\n",
       "      <td>01</td>\n",
       "      <td>...</td>\n",
       "      <td>None</td>\n",
       "      <td>QUITO DO GUARANA</td>\n",
       "      <td>0.0</td>\n",
       "      <td>QD 17 LT 02</td>\n",
       "      <td>DIMPE</td>\n",
       "      <td>RIO VERDE</td>\n",
       "      <td>GO</td>\n",
       "      <td>75903060</td>\n",
       "      <td>2025-10-28</td>\n",
       "      <td>TELHA</td>\n",
       "    </tr>\n",
       "    <tr>\n",
       "      <th>8</th>\n",
       "      <td>103869</td>\n",
       "      <td>C000123</td>\n",
       "      <td>COMERCIAL SARICO MATERIAIS PARA CONSTRUCAO EIR...</td>\n",
       "      <td>13</td>\n",
       "      <td>RV00278</td>\n",
       "      <td>PARAF HARD 12  14 X 3/4 TELHA-TERÇA-8201  100 PC</td>\n",
       "      <td>0.500000</td>\n",
       "      <td>PACOTE</td>\n",
       "      <td>25.0</td>\n",
       "      <td>01</td>\n",
       "      <td>...</td>\n",
       "      <td>None</td>\n",
       "      <td>PAUZANES DE CARVALHO</td>\n",
       "      <td>744.0</td>\n",
       "      <td>None</td>\n",
       "      <td>SETOR PAUSANES</td>\n",
       "      <td>RIO VERDE</td>\n",
       "      <td>GO</td>\n",
       "      <td>75903060</td>\n",
       "      <td>2023-05-10</td>\n",
       "      <td>TELHA</td>\n",
       "    </tr>\n",
       "    <tr>\n",
       "      <th>9</th>\n",
       "      <td>104597</td>\n",
       "      <td>C0028853</td>\n",
       "      <td>SANTINHO DANIELEWZ</td>\n",
       "      <td>17</td>\n",
       "      <td>PA00319</td>\n",
       "      <td>CORRUGADA LAMBRIL  0.90MM   2 X 1.06</td>\n",
       "      <td>16.910000</td>\n",
       "      <td>BARRA</td>\n",
       "      <td>6.0</td>\n",
       "      <td>02</td>\n",
       "      <td>...</td>\n",
       "      <td>None</td>\n",
       "      <td>GO 174</td>\n",
       "      <td>0.0</td>\n",
       "      <td>SENTIDO AP DO RIO DOCE</td>\n",
       "      <td>ZONA RURAL</td>\n",
       "      <td>RIO VERDE</td>\n",
       "      <td>GO</td>\n",
       "      <td>75901970</td>\n",
       "      <td>2025-07-19</td>\n",
       "      <td>G1 - C</td>\n",
       "    </tr>\n",
       "  </tbody>\n",
       "</table>\n",
       "<p>10 rows × 21 columns</p>\n",
       "</div>"
      ],
      "text/plain": [
       "   AbsEntry  CardCode                                           CardName  \\\n",
       "0     91552  C0028056                   CARLOS EDUARDO OLIVEIRA CRUVINEL   \n",
       "1     91552  C0028056                   CARLOS EDUARDO OLIVEIRA CRUVINEL   \n",
       "2     96641   C001107                             RIOFER INDUSTRIAL LTDA   \n",
       "3     96641   C020504                                JORGE LUIZ DA SILVA   \n",
       "4    100299  C0020909                                ACM ENGENHARIA LTDA   \n",
       "5    102402  C0025303                     CASA DO CALHEIRO MINEIROS LTDA   \n",
       "6    102895  C0029256                          IRMAOS CABRAL CENTER LTDA   \n",
       "7    103868   C000123  COMERCIAL SARICO MATERIAIS PARA CONSTRUCAO EIR...   \n",
       "8    103869   C000123  COMERCIAL SARICO MATERIAIS PARA CONSTRUCAO EIR...   \n",
       "9    104597  C0028853                                 SANTINHO DANIELEWZ   \n",
       "\n",
       "   BaseObject ItemCode                                          ItemName  \\\n",
       "0          17  PA00662                    METALON PA 1.20 - 30 X 20  6MT   \n",
       "1          17  PA00660                    METALON PA 1.20 - 20 X 20  6MT   \n",
       "2          17  PA00158                 VERGALHÃO DOB-R  5,00MM CA60 12MT   \n",
       "3          17  PA00293           PERFIL_CE TRILHO U  2.00 - 55 X 40  3MT   \n",
       "4          17  PA00029                 PERFIL U 200X50 #13 6MT CIVIL 300   \n",
       "5          17  PA00089            CORRUGADA BANDEJA   1.20MM  320 X 6 MT   \n",
       "6          13  RV00082            TUBO RED IND 101,6-4\"   CH 2,00 - 6 MT   \n",
       "7          13  RV00278  PARAF HARD 12  14 X 3/4 TELHA-TERÇA-8201  100 PC   \n",
       "8          13  RV00278  PARAF HARD 12  14 X 3/4 TELHA-TERÇA-8201  100 PC   \n",
       "9          17  PA00319              CORRUGADA LAMBRIL  0.90MM   2 X 1.06   \n",
       "\n",
       "    SWeight1  UomCode  RelQtty U_TU_QuemEntrega  ...          U_SPS_Longitude  \\\n",
       "0   5.550000    BARRA     52.0               01  ...  -50.9008171/-17.8511513   \n",
       "1   4.360000    BARRA      6.0               01  ...  -50.9008171/-17.8511513   \n",
       "2   1.800000    BARRA      1.0               00  ...                     None   \n",
       "3   6.110000    BARRA      1.0               01  ...                     None   \n",
       "4  31.309999    BARRA      1.0               01  ...                     None   \n",
       "5  21.379999  UNIDADE     17.0               02  ...                     None   \n",
       "6  30.500000    BARRA      1.0               02  ...                     None   \n",
       "7   0.500000   PACOTE     15.0               01  ...                     None   \n",
       "8   0.500000   PACOTE     25.0               01  ...                     None   \n",
       "9  16.910000    BARRA      6.0               02  ...                     None   \n",
       "\n",
       "                  U_GI_Rua U_GI_NumRua        U_GI_Complemento  \\\n",
       "0                      402         0.0             QD 25 LT 10   \n",
       "1                      402         0.0             QD 25 LT 10   \n",
       "2                     None         NaN                    None   \n",
       "3  MARIA MERCEDES FERREIRA         NaN             QD 19 LT 26   \n",
       "4    TOBIAS DO RESTAURANTE         0.0              QD 10 LT 6   \n",
       "5  JOAQUIM TEODORO MARTINS         0.0        QUADRA05 LOTE 01   \n",
       "6                RIACHUELO      3023.0    QUADRA012F LOTE 8E09   \n",
       "7         QUITO DO GUARANA         0.0             QD 17 LT 02   \n",
       "8     PAUZANES DE CARVALHO       744.0                    None   \n",
       "9                   GO 174         0.0  SENTIDO AP DO RIO DOCE   \n",
       "\n",
       "               U_GI_Bairro            U_GI_Cidade U_GI_Estado  U_GI_Cep  \\\n",
       "0               ZONA RURAL              RIO VERDE          GO  75911040   \n",
       "1               ZONA RURAL              RIO VERDE          GO  75911040   \n",
       "2                     None                   None        None      None   \n",
       "3                 BLANDINA  SANTA HELENA DE GOIAS          GO  75920000   \n",
       "4                    DIMPE              RIO VERDE          GO      None   \n",
       "5  RESIDENCIAL SANTA MARIA               MINEIROS          GO  75835332   \n",
       "6              VILA FATIMA                  JATAI          GO  75803050   \n",
       "7                    DIMPE              RIO VERDE          GO  75903060   \n",
       "8           SETOR PAUSANES              RIO VERDE          GO  75903060   \n",
       "9               ZONA RURAL              RIO VERDE          GO  75901970   \n",
       "\n",
       "    ShipDate Localizacao  \n",
       "0 2025-06-30      G1 - B  \n",
       "1 2025-06-30      G1 - B  \n",
       "2        NaT          G2  \n",
       "3 2025-05-12      G1 - C  \n",
       "4 2025-07-07      G1 - B  \n",
       "5 2025-07-26      G1 - C  \n",
       "6 2025-07-24      G1 - B  \n",
       "7 2025-10-28       TELHA  \n",
       "8 2023-05-10       TELHA  \n",
       "9 2025-07-19      G1 - C  \n",
       "\n",
       "[10 rows x 21 columns]"
      ]
     },
     "execution_count": 3,
     "metadata": {},
     "output_type": "execute_result"
    }
   ],
   "source": [
    "caminho_parquet = \"data//RIOFER_PICKING_SGD.parquet\"\n",
    "\n",
    "df = pd.read_parquet(caminho_parquet)\n",
    "\n",
    "df.head(10)"
   ]
  },
  {
   "cell_type": "code",
   "execution_count": null,
   "id": "ac90341c",
   "metadata": {},
   "outputs": [
    {
     "data": {
      "application/vnd.plotly.v1+json": {
       "config": {
        "plotlyServerURL": "https://plot.ly"
       },
       "data": [
        {
         "base": [
          "2025-08-25T15:49:00.000000000",
          "2025-08-25T15:59:00.000000000",
          "2025-08-25T15:59:00.000000000",
          "2025-08-25T15:57:00.000000000",
          "2025-08-25T15:59:00.000000000",
          "2025-08-25T15:56:00.000000000",
          "2025-08-25T15:56:00.000000000",
          "2025-08-25T15:58:00.000000000",
          "2025-08-25T15:59:00.000000000",
          "2025-08-25T15:59:00.000000000",
          "2025-08-25T15:59:00.000000000",
          "2025-08-25T15:59:00.000000000",
          "2025-08-25T15:59:00.000000000",
          "2025-08-25T15:59:00.000000000",
          "2025-08-25T15:46:00.000000000",
          "2025-08-25T14:54:00.000000000",
          "2025-08-25T15:19:00.000000000",
          "2025-08-25T15:52:00.000000000",
          "2025-08-25T15:59:00.000000000",
          "2025-08-25T15:34:00.000000000",
          "2025-08-25T15:57:00.000000000",
          "2025-08-25T15:56:00.000000000",
          "2025-08-25T15:56:00.000000000",
          "2025-08-25T15:58:00.000000000",
          "2025-08-25T15:59:00.000000000",
          "2025-08-25T14:18:00.000000000",
          "2025-08-25T14:18:00.000000000",
          "2025-08-25T15:36:00.000000000",
          "2025-08-25T14:16:00.000000000",
          "2025-08-25T14:16:00.000000000",
          "2025-08-25T15:43:00.000000000",
          "2025-08-25T14:22:00.000000000",
          "2025-08-25T14:59:00.000000000",
          "2025-08-25T15:51:00.000000000",
          "2025-08-25T15:55:00.000000000",
          "2025-08-25T15:56:00.000000000",
          "2025-08-25T15:57:00.000000000",
          "2025-08-25T15:57:00.000000000",
          "2025-08-25T15:58:00.000000000",
          "2025-08-25T15:59:00.000000000",
          "2025-08-25T14:07:00.000000000",
          "2025-08-25T15:22:00.000000000",
          "2025-08-25T15:38:00.000000000",
          "2025-08-25T15:48:00.000000000",
          "2025-08-25T15:42:00.000000000",
          "2025-08-25T15:47:00.000000000",
          "2025-08-25T15:47:00.000000000",
          "2025-08-25T15:57:00.000000000",
          "2025-08-25T13:40:00.000000000",
          "2025-08-25T14:54:00.000000000",
          "2025-08-25T15:49:00.000000000",
          "2025-08-25T14:56:00.000000000",
          "2025-08-25T15:53:00.000000000",
          "2025-08-25T15:42:00.000000000",
          "2025-08-25T15:56:00.000000000",
          "2025-08-25T15:56:00.000000000",
          "2025-08-25T15:57:00.000000000",
          "2025-08-25T15:59:00.000000000",
          "2025-08-25T15:59:00.000000000",
          "2025-08-25T15:59:00.000000000",
          "2025-08-25T15:59:00.000000000",
          "2025-08-25T15:59:00.000000000",
          "2025-08-25T14:21:00.000000000",
          "2025-08-25T15:47:00.000000000",
          "2025-08-25T15:57:00.000000000",
          "2025-08-25T15:46:00.000000000",
          "2025-08-25T15:34:00.000000000",
          "2025-08-25T15:31:00.000000000",
          "2025-08-25T15:53:00.000000000",
          "2025-08-25T15:52:00.000000000",
          "2025-08-25T15:57:00.000000000",
          "2025-08-25T15:54:00.000000000",
          "2025-08-25T15:56:00.000000000",
          "2025-08-25T14:43:00.000000000",
          "2025-08-25T15:15:00.000000000",
          "2025-08-25T15:28:00.000000000",
          "2025-08-25T14:21:00.000000000",
          "2025-08-25T15:59:00.000000000",
          "2025-08-25T15:26:00.000000000",
          "2025-08-25T15:53:00.000000000",
          "2025-08-25T15:54:00.000000000",
          "2025-08-25T15:55:00.000000000",
          "2025-08-25T15:55:00.000000000",
          "2025-08-25T15:57:00.000000000",
          "2025-08-25T15:58:00.000000000",
          "2025-08-25T15:58:00.000000000",
          "2025-08-25T15:58:00.000000000",
          "2025-08-25T13:00:00.000000000",
          "2025-08-25T14:27:00.000000000",
          "2025-08-25T15:38:00.000000000",
          "2025-08-25T15:33:00.000000000",
          "2025-08-25T10:57:00.000000000",
          "2025-08-25T13:00:00.000000000",
          "2025-08-25T13:00:00.000000000",
          "2025-08-25T15:52:00.000000000"
         ],
         "customdata": [
          [
           "9665 - PA00262",
           "PERFIL TRILHO U  2.00 - 68 X 30  2.5MT",
           140,
           "PA00262"
          ],
          [
           "9645 - PI00090",
           "BLANK -  2.65 MM  X 6 MT DESENV.: 169",
           85,
           "PI00090"
          ],
          [
           "9645 - PI00090",
           "BLANK -  2.65 MM  X 6 MT DESENV.: 189",
           23,
           "PI00090"
          ],
          [
           "9648 - PI00090",
           "BLANK -  2.65 MM  X 6 MT DESENV.: 169",
           423,
           "PI00090"
          ],
          [
           "9648 - PI00090",
           "BLANK -  2.65 MM  X 6 MT DESENV.: 239",
           118,
           "PI00090"
          ],
          [
           "9652 - PA00016",
           "PERFIL ENR  75X40X17 #13 6MT CIVIL 300",
           140,
           "PA00016"
          ],
          [
           "9652 - PA00017",
           "PERFIL ENR 100X40X17 #13 6MT CIVIL 300",
           138,
           "PA00017"
          ],
          [
           "9652 - PA00028",
           "PERFIL U 150X50 #13 6MT CIVIL 300",
           80,
           "PA00028"
          ],
          [
           "9652 - PA00018",
           "PERFIL ENR 100X50X17 #13 6MT CIVIL 300",
           20,
           "PA00018"
          ],
          [
           "9652 - PA00029",
           "PERFIL U 200X50 #13 6MT CIVIL 300",
           20,
           "PA00029"
          ],
          [
           "9652 - PA00023",
           "PERFIL U  75X40 #13 6MT CIVIL 300",
           12,
           "PA00023"
          ],
          [
           "9652 - PA00029",
           "PERFIL U 200X50 #13 6MT CIVIL 300",
           2,
           "PA00029"
          ],
          [
           "9652 - PA00021",
           "PERFIL ENR 200X60X20 #13 6MT CIVIL 300",
           33,
           "PA00021"
          ],
          [
           "9652 - PA00024",
           "PERFIL U  93X30 #13 6MT CIVIL 300",
           11,
           "PA00024"
          ],
          [
           "9667 - PI00084",
           "BLANK -  2.00 MM  X 2.5 MT DESENV.: 118",
           638,
           "PI00084"
          ],
          [
           "9668 - PA00120",
           "TELHA BGL 0.43 AZM-150",
           25,
           "PA00120"
          ],
          [
           "9668 - PA00113",
           "",
           41,
           "PA00113"
          ],
          [
           "9672 - PA00120",
           "TELHA BGL 0.43 AZM-150 TRAP-25",
           7,
           "PA00120"
          ],
          [
           "9675 - PA00192",
           "CHAPA 2.00 MM   FQ   3 X 1.20",
           50,
           "PA00192"
          ],
          [
           "9676 - PI00087",
           "BLANK -  2.00 MM  X 6 MT DESENV.: 212",
           2880,
           "PI00087"
          ],
          [
           "9676 - PI00087",
           "BLANK -  2.00 MM  X 6 MT DESENV.: 118",
           321,
           "PI00087"
          ],
          [
           "9677 - PA00006",
           "PERFIL ENR 200X60X20 #14 6MT CIVIL 300",
           210,
           "PA00006"
          ],
          [
           "9677 - PA00003",
           "PERFIL ENR 100X50X17 #14 6MT CIVIL 300",
           145,
           "PA00003"
          ],
          [
           "9677 - PA00009",
           "PERFIL U  93X30 #14 6MT CIVIL 300",
           70,
           "PA00009"
          ],
          [
           "9677 - PA00007",
           "PERFIL U  68X30 #14 6MT CIVIL 300",
           29,
           "PA00007"
          ],
          [
           "9678 - PI00007",
           "PI -  2.00 MM   6   X 1.20",
           11437,
           "PI00007"
          ],
          [
           "9679 - PI00087",
           "BLANK -  2.00 MM  X 6 MT DESENV.: 169",
           11437,
           "PI00087"
          ],
          [
           "9680 - PA00001",
           "PERFIL ENR  75X40X17 #14 6MT CIVIL 300",
           735,
           "PA00001"
          ],
          [
           "9681 - PI00007",
           "PI -  2.00 MM   6   X 1.20",
           11636,
           "PI00007"
          ],
          [
           "9682 - PI00087",
           "BLANK -  2.00 MM  X 6 MT DESENV.: 197",
           11636,
           "PI00087"
          ],
          [
           "9683 - PA00002",
           "PERFIL ENR 100X40X17 #14 6MT CIVIL 300",
           630,
           "PA00002"
          ],
          [
           "9684 - PI00007",
           "PI -  2.00 MM   6   X 1.20",
           10958,
           "PI00007"
          ],
          [
           "9685 - PI00087",
           "BLANK -  2.00 MM  X 6 MT DESENV.: 344",
           6787,
           "PI00087"
          ],
          [
           "9685 - PI00087",
           "BLANK -  2.00 MM  X 6 MT DESENV.: 145",
           970,
           "PI00087"
          ],
          [
           "9686 - PA00004",
           "PERFIL ENR 125X50X16 #14 6MT CIVIL 300",
           190,
           "PA00004"
          ],
          [
           "9686 - PA00008",
           "PERFIL U  75X40 #14 6MT CIVIL 300",
           144,
           "PA00008"
          ],
          [
           "9686 - PA00005",
           "PERFIL ENR 150X50X17 #14 6MT CIVIL 300",
           102,
           "PA00005"
          ],
          [
           "9686 - PA00007",
           "PERFIL U  68X30 #14 6MT CIVIL 300",
           70,
           "PA00007"
          ],
          [
           "9686 - PA00002",
           "PERFIL ENR 100X40X17 #14 6MT CIVIL 300",
           68,
           "PA00002"
          ],
          [
           "9686 - PA00161",
           "PERFIL ENR 250X60X20 #14 6MT CIVIL 300",
           54,
           "PA00161"
          ],
          [
           "9687 - PI00007",
           "PI -  2.00 MM   6   X 1.20",
           12676,
           "PI00007"
          ],
          [
           "9688 - PI00087",
           "BLANK -  2.00 MM  X 6 MT DESENV.: 235",
           4190,
           "PI00087"
          ],
          [
           "9689 - PI00087",
           "BLANK -  2.00 MM  X 6 MT DESENV.: 262",
           2469,
           "PI00087"
          ],
          [
           "9689 - PI00087",
           "BLANK -  2.00 MM  X 6 MT DESENV.: 196",
           1256,
           "PI00087"
          ],
          [
           "9690 - PI00087",
           "BLANK -  2.00 MM  X 6 MT DESENV.: 147",
           2000,
           "PI00087"
          ],
          [
           "9691 - PA00009",
           "PERFIL U  93X30 #14 6MT CIVIL 300",
           532,
           "PA00009"
          ],
          [
           "9691 - PA00418",
           "PERFIL U  95X30 #14 6MT CIVIL 300",
           528,
           "PA00418"
          ],
          [
           "9691 - PA00001",
           "PERFIL ENR  75X40X17 #14 6MT CIVIL 300",
           76,
           "PA00001"
          ],
          [
           "9692 - PI00007",
           "PI -  2.00 MM   6   X 1.20",
           15689,
           "PI00007"
          ],
          [
           "9693 - PI00087",
           "BLANK -  2.00 MM  X 6 MT DESENV.: 145",
           7368,
           "PI00087"
          ],
          [
           "9693 - PI00087",
           "BLANK -  2.00 MM  X 6 MT DESENV.: 169",
           1183,
           "PI00087"
          ],
          [
           "9694 - PI00087",
           "BLANK -  2.00 MM  X 6 MT DESENV.: 147",
           7139,
           "PI00087"
          ],
          [
           "9695 - PI00087",
           "BLANK -  2.00 MM  X 6 MT DESENV.: 118",
           776,
           "PI00087"
          ],
          [
           "9696 - PI00087",
           "BLANK -  2.00 MM  X 6 MT DESENV.: 394",
           1985,
           "PI00087"
          ],
          [
           "9697 - PA00010",
           "PERFIL U 100X40 #14 6MT CIVIL 300",
           182,
           "PA00010"
          ],
          [
           "9697 - PA00011",
           "PERFIL U 100X50 #14 6MT CIVIL 300",
           180,
           "PA00011"
          ],
          [
           "9697 - PA00012",
           "PERFIL U 120X30 #14 6MT CIVIL 300",
           98,
           "PA00012"
          ],
          [
           "9697 - PA00003",
           "PERFIL ENR 100X50X17 #14 6MT CIVIL 300",
           36,
           "PA00003"
          ],
          [
           "9697 - PA00013",
           "PERFIL U 127X50 #14 6MT CIVIL 300",
           40,
           "PA00013"
          ],
          [
           "9697 - PA00418",
           "PERFIL U  95X30 #14 6MT CIVIL 300",
           20,
           "PA00418"
          ],
          [
           "9697 - PA00015",
           "PERFIL U 150X50 #14 6MT CIVIL 300",
           60,
           "PA00015"
          ],
          [
           "9697 - PA00003",
           "PERFIL ENR 100X50X17 #14 6MT CIVIL 300",
           15,
           "PA00003"
          ],
          [
           "9698 - PI00007",
           "PI -  2.00 MM   6   X 1.20",
           11146,
           "PI00007"
          ],
          [
           "9699 - PI00087",
           "BLANK -  2.00 MM  X 6 MT DESENV.: 240",
           1361,
           "PI00087"
          ],
          [
           "9699 - PI00087",
           "BLANK -  2.00 MM  X 6 MT DESENV.: 214",
           298,
           "PI00087"
          ],
          [
           "9700 - PI00087",
           "BLANK -  2.00 MM  X 6 MT DESENV.: 169",
           1547,
           "PI00087"
          ],
          [
           "9701 - PI00087",
           "BLANK -  2.00 MM  X 6 MT DESENV.: 168",
           2861,
           "PI00087"
          ],
          [
           "9702 - PI00087",
           "BLANK -  2.00 MM  X 6 MT DESENV.: 192",
           3269,
           "PI00087"
          ],
          [
           "9702 - PI00087",
           "BLANK -  2.00 MM  X 6 MT DESENV.: 216",
           715,
           "PI00087"
          ],
          [
           "9703 - PI00087",
           "BLANK -  2.00 MM  X 6 MT DESENV.: 219",
           824,
           "PI00087"
          ],
          [
           "9703 - PI00087",
           "BLANK -  2.00 MM  X 6 MT DESENV.: 147",
           270,
           "PI00087"
          ],
          [
           "9704 - PA00458",
           "PERFIL CALHA 100X250X180 #14 6MT CIVIL 300",
           92,
           "PA00458"
          ],
          [
           "9704 - PA00457",
           "PERFIL CALHA  75X300X150 #14 6MT CIVIL 300",
           66,
           "PA00457"
          ],
          [
           "9705 - PI00007",
           "PI -  2.00 MM   6   X 1.20",
           8638,
           "PI00007"
          ],
          [
           "9706 - PI00087",
           "BLANK -  2.00 MM  X 6 MT DESENV.: 589",
           5027,
           "PI00087"
          ],
          [
           "9707 - PI00087",
           "BLANK -  2.00 MM  X 6 MT DESENV.: 589",
           3611,
           "PI00087"
          ],
          [
           "9661 - PA00120",
           "TELHA BGL 0.43 AZM-150 TRAP-25",
           99,
           "PA00120"
          ],
          [
           "9673 - PA00120",
           "TELHA BGL 0.43 AZM-150 TRAP-25",
           1,
           "PA00120"
          ],
          [
           "9674 - PA00120",
           "TELHA BGL 0.43 AZM-150 TRAP-25",
           34,
           "PA00120"
          ],
          [
           "9674 - PA00120",
           "TELHA BGL 0.43 AZM-150 TRAP-25",
           7,
           "PA00120"
          ],
          [
           "9674 - PA00120",
           "TELHA BGL 0.43 AZM-150 TRAP-25",
           5,
           "PA00120"
          ],
          [
           "9674 - PA00120",
           "TELHA BGL 0.43 AZM-150 TRAP-25",
           5,
           "PA00120"
          ],
          [
           "9674 - PA00120",
           "TELHA BGL 0.43 AZM-150 TRAP-25",
           5,
           "PA00120"
          ],
          [
           "9674 - PA00120",
           "TELHA BGL 0.43 AZM-150 TRAP-25",
           2,
           "PA00120"
          ],
          [
           "9674 - PA00120",
           "TELHA BGL 0.43 AZM-150 TRAP-25",
           2,
           "PA00120"
          ],
          [
           "9674 - PA00120",
           "TELHA BGL 0.43 AZM-150 TRAP-25",
           2,
           "PA00120"
          ],
          [
           "9674 - PA00120",
           "TELHA BGL 0.43 AZM-150 TRAP-25",
           1,
           "PA00120"
          ],
          [
           "9644 - PA00120",
           "TELHA BGL 0.43 AZM-150 TRAP-25",
           208,
           "PA00120"
          ],
          [
           "9644 - PA00120",
           "TELHA BGL 0.43 AZM-150 TRAP-25",
           92,
           "PA00120"
          ],
          [
           "9644 - PA00120",
           "TELHA BGL 0.43 AZM-150 TRAP-25",
           22,
           "PA00120"
          ],
          [
           "9659 - PA00120",
           "TELHA BGL 0.43 AZM-150 TRAP-25",
           27,
           "PA00120"
          ],
          [
           "9669 - PA00120",
           "TELHA BGL 0.43 AZM-150 TRAP-25",
           302,
           "PA00120"
          ],
          [
           "9669 - PA00120",
           "TELHA BGL 0.43 AZM-150 TRAP-25",
           200,
           "PA00120"
          ],
          [
           "9669 - PA00120",
           "TELHA BGL 0.43 AZM-150 TRAP-25",
           302,
           "PA00120"
          ],
          [
           "9671 - PA00120",
           "TELHA BGL 0.43 AZM-150 TRAP-25",
           8,
           "PA00120"
          ]
         ],
         "hovertemplate": "Start=%{base}<br>Finish=%{x}<br>Maquina_Pos=%{y}<br>Task=%{customdata[0]}<br>Descricao=%{customdata[1]}<br>Quantidade=%{customdata[2]}<br>Codigo=%{customdata[3]}<br>Ordem=%{marker.color}<extra></extra>",
         "legendgroup": "",
         "marker": {
          "color": {
           "bdata": "wSWtJa0lsCWwJbQltCW0JbQltCW0JbQltCW0JcMlxCXEJcglyyXMJcwlzSXNJc0lzSXOJc8l0CXRJdIl0yXUJdUl1SXWJdYl1iXWJdYl1iXXJdgl2SXZJdol2yXbJdsl3CXdJd0l3iXfJeAl4SXhJeEl4SXhJeEl4SXhJeIl4yXjJeQl5SXmJeYl5yXnJegl6CXpJeol6yW9JcklyiXKJcolyiXKJcolyiXKJcolrCWsJawluyXFJcUlxSXHJQ==",
           "dtype": "i2"
          },
          "coloraxis": "coloraxis",
          "pattern": {
           "shape": ""
          }
         },
         "name": "",
         "orientation": "h",
         "showlegend": false,
         "text": [
          "9665 - PA00262",
          "9645 - PI00090",
          "9645 - PI00090",
          "9648 - PI00090",
          "9648 - PI00090",
          "9652 - PA00016",
          "9652 - PA00017",
          "9652 - PA00028",
          "9652 - PA00018",
          "9652 - PA00029",
          "9652 - PA00023",
          "9652 - PA00029",
          "9652 - PA00021",
          "9652 - PA00024",
          "9667 - PI00084",
          "9668 - PA00120",
          "9668 - PA00113",
          "9672 - PA00120",
          "9675 - PA00192",
          "9676 - PI00087",
          "9676 - PI00087",
          "9677 - PA00006",
          "9677 - PA00003",
          "9677 - PA00009",
          "9677 - PA00007",
          "9678 - PI00007",
          "9679 - PI00087",
          "9680 - PA00001",
          "9681 - PI00007",
          "9682 - PI00087",
          "9683 - PA00002",
          "9684 - PI00007",
          "9685 - PI00087",
          "9685 - PI00087",
          "9686 - PA00004",
          "9686 - PA00008",
          "9686 - PA00005",
          "9686 - PA00007",
          "9686 - PA00002",
          "9686 - PA00161",
          "9687 - PI00007",
          "9688 - PI00087",
          "9689 - PI00087",
          "9689 - PI00087",
          "9690 - PI00087",
          "9691 - PA00009",
          "9691 - PA00418",
          "9691 - PA00001",
          "9692 - PI00007",
          "9693 - PI00087",
          "9693 - PI00087",
          "9694 - PI00087",
          "9695 - PI00087",
          "9696 - PI00087",
          "9697 - PA00010",
          "9697 - PA00011",
          "9697 - PA00012",
          "9697 - PA00003",
          "9697 - PA00013",
          "9697 - PA00418",
          "9697 - PA00015",
          "9697 - PA00003",
          "9698 - PI00007",
          "9699 - PI00087",
          "9699 - PI00087",
          "9700 - PI00087",
          "9701 - PI00087",
          "9702 - PI00087",
          "9702 - PI00087",
          "9703 - PI00087",
          "9703 - PI00087",
          "9704 - PA00458",
          "9704 - PA00457",
          "9705 - PI00007",
          "9706 - PI00087",
          "9707 - PI00087",
          "9661 - PA00120",
          "9673 - PA00120",
          "9674 - PA00120",
          "9674 - PA00120",
          "9674 - PA00120",
          "9674 - PA00120",
          "9674 - PA00120",
          "9674 - PA00120",
          "9674 - PA00120",
          "9674 - PA00120",
          "9674 - PA00120",
          "9644 - PA00120",
          "9644 - PA00120",
          "9644 - PA00120",
          "9659 - PA00120",
          "9669 - PA00120",
          "9669 - PA00120",
          "9669 - PA00120",
          "9671 - PA00120"
         ],
         "textposition": "inside",
         "type": "bar",
         "x": {
          "bdata": "k14JAIyBAADoIwAAx4cCAG+1AADshwMAuBMDALT4AADZZAAAm0gAAMI8AABCBwAANm0AAHE3AADAaAwAoIUWAGCJJQCAlwYASsoAAG8gFwCblAIAlPACAIpMAwCSigEAMcsAAL/YWwC/2FsAh58VAOdyXQDncl0A8FQPADUAWADygTYAN8kHAMTsAwAaKwMASecBAHjqAQCkpwEAH6sAADLMZQBIpSEA7tQTACcWCgArEBAAvLYLAF68CwBhPAIAAAB+AHAsOwA/fwkAUFQ5AJI6BgAV8Q8AWYcDAF0GAwDh5AEArdEAAKCXAADNcQAAUc8AAF1XAAC4glkAsu0KAHVkAgBfbQwAEvoWAGVAGgDmvQUA5p4GAOsrAgDinwQAmk8DAIJeRQDeXigApP8cACCjWgBg6gAAwCAfAMA5BgCg8QQA4JMEACA2BACAMgIAwNQBAAB3AQBAGQEAgMukAECYVAAQrxMA8EIYACC/AgBQVqQA4D6kAABTBwA=",
          "dtype": "i4"
         },
         "xaxis": "x",
         "y": [
          "DBR 165 | Pos 9665",
          "HGSK6013 | Pos 9645",
          "HGSK6013 | Pos 9645",
          "HGSK6013 | Pos 9648",
          "HGSK6013 | Pos 9648",
          "Planejado | Pos 9652",
          "Planejado | Pos 9652",
          "Planejado | Pos 9652",
          "Planejado | Pos 9652",
          "Planejado | Pos 9652",
          "Planejado | Pos 9652",
          "Planejado | Pos 9652",
          "Planejado | Pos 9652",
          "Planejado | Pos 9652",
          "Planejado | Pos 9667",
          "Planejado | Pos 9668",
          "Planejado | Pos 9668",
          "Planejado | Pos 9672",
          "Planejado | Pos 9675",
          "Planejado | Pos 9676",
          "Planejado | Pos 9676",
          "Planejado | Pos 9677",
          "Planejado | Pos 9677",
          "Planejado | Pos 9677",
          "Planejado | Pos 9677",
          "Planejado | Pos 9678",
          "Planejado | Pos 9679",
          "Planejado | Pos 9680",
          "Planejado | Pos 9681",
          "Planejado | Pos 9682",
          "Planejado | Pos 9683",
          "Planejado | Pos 9684",
          "Planejado | Pos 9685",
          "Planejado | Pos 9685",
          "Planejado | Pos 9686",
          "Planejado | Pos 9686",
          "Planejado | Pos 9686",
          "Planejado | Pos 9686",
          "Planejado | Pos 9686",
          "Planejado | Pos 9686",
          "Planejado | Pos 9687",
          "Planejado | Pos 9688",
          "Planejado | Pos 9689",
          "Planejado | Pos 9689",
          "Planejado | Pos 9690",
          "Planejado | Pos 9691",
          "Planejado | Pos 9691",
          "Planejado | Pos 9691",
          "Planejado | Pos 9692",
          "Planejado | Pos 9693",
          "Planejado | Pos 9693",
          "Planejado | Pos 9694",
          "Planejado | Pos 9695",
          "Planejado | Pos 9696",
          "Planejado | Pos 9697",
          "Planejado | Pos 9697",
          "Planejado | Pos 9697",
          "Planejado | Pos 9697",
          "Planejado | Pos 9697",
          "Planejado | Pos 9697",
          "Planejado | Pos 9697",
          "Planejado | Pos 9697",
          "Planejado | Pos 9698",
          "Planejado | Pos 9699",
          "Planejado | Pos 9699",
          "Planejado | Pos 9700",
          "Planejado | Pos 9701",
          "Planejado | Pos 9702",
          "Planejado | Pos 9702",
          "Planejado | Pos 9703",
          "Planejado | Pos 9703",
          "Planejado | Pos 9704",
          "Planejado | Pos 9704",
          "Planejado | Pos 9705",
          "Planejado | Pos 9706",
          "Planejado | Pos 9707",
          "T001 | Pos 9661",
          "T001 | Pos 9673",
          "T001 | Pos 9674",
          "T001 | Pos 9674",
          "T001 | Pos 9674",
          "T001 | Pos 9674",
          "T001 | Pos 9674",
          "T001 | Pos 9674",
          "T001 | Pos 9674",
          "T001 | Pos 9674",
          "T001 | Pos 9674",
          "T002 | Pos 9644",
          "T002 | Pos 9644",
          "T002 | Pos 9644",
          "T002 | Pos 9659",
          "T002 | Pos 9669",
          "T002 | Pos 9669",
          "T002 | Pos 9669",
          "T002 | Pos 9671"
         ],
         "yaxis": "y"
        }
       ],
       "layout": {
        "barmode": "overlay",
        "coloraxis": {
         "colorbar": {
          "title": {
           "text": "Ordem"
          }
         },
         "colorscale": [
          [
           0,
           "#0d0887"
          ],
          [
           0.1111111111111111,
           "#46039f"
          ],
          [
           0.2222222222222222,
           "#7201a8"
          ],
          [
           0.3333333333333333,
           "#9c179e"
          ],
          [
           0.4444444444444444,
           "#bd3786"
          ],
          [
           0.5555555555555556,
           "#d8576b"
          ],
          [
           0.6666666666666666,
           "#ed7953"
          ],
          [
           0.7777777777777778,
           "#fb9f3a"
          ],
          [
           0.8888888888888888,
           "#fdca26"
          ],
          [
           1,
           "#f0f921"
          ]
         ]
        },
        "height": 1410,
        "legend": {
         "title": {
          "text": "Ordem"
         },
         "tracegroupgap": 0
        },
        "template": {
         "data": {
          "bar": [
           {
            "error_x": {
             "color": "#2a3f5f"
            },
            "error_y": {
             "color": "#2a3f5f"
            },
            "marker": {
             "line": {
              "color": "#E5ECF6",
              "width": 0.5
             },
             "pattern": {
              "fillmode": "overlay",
              "size": 10,
              "solidity": 0.2
             }
            },
            "type": "bar"
           }
          ],
          "barpolar": [
           {
            "marker": {
             "line": {
              "color": "#E5ECF6",
              "width": 0.5
             },
             "pattern": {
              "fillmode": "overlay",
              "size": 10,
              "solidity": 0.2
             }
            },
            "type": "barpolar"
           }
          ],
          "carpet": [
           {
            "aaxis": {
             "endlinecolor": "#2a3f5f",
             "gridcolor": "white",
             "linecolor": "white",
             "minorgridcolor": "white",
             "startlinecolor": "#2a3f5f"
            },
            "baxis": {
             "endlinecolor": "#2a3f5f",
             "gridcolor": "white",
             "linecolor": "white",
             "minorgridcolor": "white",
             "startlinecolor": "#2a3f5f"
            },
            "type": "carpet"
           }
          ],
          "choropleth": [
           {
            "colorbar": {
             "outlinewidth": 0,
             "ticks": ""
            },
            "type": "choropleth"
           }
          ],
          "contour": [
           {
            "colorbar": {
             "outlinewidth": 0,
             "ticks": ""
            },
            "colorscale": [
             [
              0,
              "#0d0887"
             ],
             [
              0.1111111111111111,
              "#46039f"
             ],
             [
              0.2222222222222222,
              "#7201a8"
             ],
             [
              0.3333333333333333,
              "#9c179e"
             ],
             [
              0.4444444444444444,
              "#bd3786"
             ],
             [
              0.5555555555555556,
              "#d8576b"
             ],
             [
              0.6666666666666666,
              "#ed7953"
             ],
             [
              0.7777777777777778,
              "#fb9f3a"
             ],
             [
              0.8888888888888888,
              "#fdca26"
             ],
             [
              1,
              "#f0f921"
             ]
            ],
            "type": "contour"
           }
          ],
          "contourcarpet": [
           {
            "colorbar": {
             "outlinewidth": 0,
             "ticks": ""
            },
            "type": "contourcarpet"
           }
          ],
          "heatmap": [
           {
            "colorbar": {
             "outlinewidth": 0,
             "ticks": ""
            },
            "colorscale": [
             [
              0,
              "#0d0887"
             ],
             [
              0.1111111111111111,
              "#46039f"
             ],
             [
              0.2222222222222222,
              "#7201a8"
             ],
             [
              0.3333333333333333,
              "#9c179e"
             ],
             [
              0.4444444444444444,
              "#bd3786"
             ],
             [
              0.5555555555555556,
              "#d8576b"
             ],
             [
              0.6666666666666666,
              "#ed7953"
             ],
             [
              0.7777777777777778,
              "#fb9f3a"
             ],
             [
              0.8888888888888888,
              "#fdca26"
             ],
             [
              1,
              "#f0f921"
             ]
            ],
            "type": "heatmap"
           }
          ],
          "histogram": [
           {
            "marker": {
             "pattern": {
              "fillmode": "overlay",
              "size": 10,
              "solidity": 0.2
             }
            },
            "type": "histogram"
           }
          ],
          "histogram2d": [
           {
            "colorbar": {
             "outlinewidth": 0,
             "ticks": ""
            },
            "colorscale": [
             [
              0,
              "#0d0887"
             ],
             [
              0.1111111111111111,
              "#46039f"
             ],
             [
              0.2222222222222222,
              "#7201a8"
             ],
             [
              0.3333333333333333,
              "#9c179e"
             ],
             [
              0.4444444444444444,
              "#bd3786"
             ],
             [
              0.5555555555555556,
              "#d8576b"
             ],
             [
              0.6666666666666666,
              "#ed7953"
             ],
             [
              0.7777777777777778,
              "#fb9f3a"
             ],
             [
              0.8888888888888888,
              "#fdca26"
             ],
             [
              1,
              "#f0f921"
             ]
            ],
            "type": "histogram2d"
           }
          ],
          "histogram2dcontour": [
           {
            "colorbar": {
             "outlinewidth": 0,
             "ticks": ""
            },
            "colorscale": [
             [
              0,
              "#0d0887"
             ],
             [
              0.1111111111111111,
              "#46039f"
             ],
             [
              0.2222222222222222,
              "#7201a8"
             ],
             [
              0.3333333333333333,
              "#9c179e"
             ],
             [
              0.4444444444444444,
              "#bd3786"
             ],
             [
              0.5555555555555556,
              "#d8576b"
             ],
             [
              0.6666666666666666,
              "#ed7953"
             ],
             [
              0.7777777777777778,
              "#fb9f3a"
             ],
             [
              0.8888888888888888,
              "#fdca26"
             ],
             [
              1,
              "#f0f921"
             ]
            ],
            "type": "histogram2dcontour"
           }
          ],
          "mesh3d": [
           {
            "colorbar": {
             "outlinewidth": 0,
             "ticks": ""
            },
            "type": "mesh3d"
           }
          ],
          "parcoords": [
           {
            "line": {
             "colorbar": {
              "outlinewidth": 0,
              "ticks": ""
             }
            },
            "type": "parcoords"
           }
          ],
          "pie": [
           {
            "automargin": true,
            "type": "pie"
           }
          ],
          "scatter": [
           {
            "fillpattern": {
             "fillmode": "overlay",
             "size": 10,
             "solidity": 0.2
            },
            "type": "scatter"
           }
          ],
          "scatter3d": [
           {
            "line": {
             "colorbar": {
              "outlinewidth": 0,
              "ticks": ""
             }
            },
            "marker": {
             "colorbar": {
              "outlinewidth": 0,
              "ticks": ""
             }
            },
            "type": "scatter3d"
           }
          ],
          "scattercarpet": [
           {
            "marker": {
             "colorbar": {
              "outlinewidth": 0,
              "ticks": ""
             }
            },
            "type": "scattercarpet"
           }
          ],
          "scattergeo": [
           {
            "marker": {
             "colorbar": {
              "outlinewidth": 0,
              "ticks": ""
             }
            },
            "type": "scattergeo"
           }
          ],
          "scattergl": [
           {
            "marker": {
             "colorbar": {
              "outlinewidth": 0,
              "ticks": ""
             }
            },
            "type": "scattergl"
           }
          ],
          "scattermap": [
           {
            "marker": {
             "colorbar": {
              "outlinewidth": 0,
              "ticks": ""
             }
            },
            "type": "scattermap"
           }
          ],
          "scattermapbox": [
           {
            "marker": {
             "colorbar": {
              "outlinewidth": 0,
              "ticks": ""
             }
            },
            "type": "scattermapbox"
           }
          ],
          "scatterpolar": [
           {
            "marker": {
             "colorbar": {
              "outlinewidth": 0,
              "ticks": ""
             }
            },
            "type": "scatterpolar"
           }
          ],
          "scatterpolargl": [
           {
            "marker": {
             "colorbar": {
              "outlinewidth": 0,
              "ticks": ""
             }
            },
            "type": "scatterpolargl"
           }
          ],
          "scatterternary": [
           {
            "marker": {
             "colorbar": {
              "outlinewidth": 0,
              "ticks": ""
             }
            },
            "type": "scatterternary"
           }
          ],
          "surface": [
           {
            "colorbar": {
             "outlinewidth": 0,
             "ticks": ""
            },
            "colorscale": [
             [
              0,
              "#0d0887"
             ],
             [
              0.1111111111111111,
              "#46039f"
             ],
             [
              0.2222222222222222,
              "#7201a8"
             ],
             [
              0.3333333333333333,
              "#9c179e"
             ],
             [
              0.4444444444444444,
              "#bd3786"
             ],
             [
              0.5555555555555556,
              "#d8576b"
             ],
             [
              0.6666666666666666,
              "#ed7953"
             ],
             [
              0.7777777777777778,
              "#fb9f3a"
             ],
             [
              0.8888888888888888,
              "#fdca26"
             ],
             [
              1,
              "#f0f921"
             ]
            ],
            "type": "surface"
           }
          ],
          "table": [
           {
            "cells": {
             "fill": {
              "color": "#EBF0F8"
             },
             "line": {
              "color": "white"
             }
            },
            "header": {
             "fill": {
              "color": "#C8D4E3"
             },
             "line": {
              "color": "white"
             }
            },
            "type": "table"
           }
          ]
         },
         "layout": {
          "annotationdefaults": {
           "arrowcolor": "#2a3f5f",
           "arrowhead": 0,
           "arrowwidth": 1
          },
          "autotypenumbers": "strict",
          "coloraxis": {
           "colorbar": {
            "outlinewidth": 0,
            "ticks": ""
           }
          },
          "colorscale": {
           "diverging": [
            [
             0,
             "#8e0152"
            ],
            [
             0.1,
             "#c51b7d"
            ],
            [
             0.2,
             "#de77ae"
            ],
            [
             0.3,
             "#f1b6da"
            ],
            [
             0.4,
             "#fde0ef"
            ],
            [
             0.5,
             "#f7f7f7"
            ],
            [
             0.6,
             "#e6f5d0"
            ],
            [
             0.7,
             "#b8e186"
            ],
            [
             0.8,
             "#7fbc41"
            ],
            [
             0.9,
             "#4d9221"
            ],
            [
             1,
             "#276419"
            ]
           ],
           "sequential": [
            [
             0,
             "#0d0887"
            ],
            [
             0.1111111111111111,
             "#46039f"
            ],
            [
             0.2222222222222222,
             "#7201a8"
            ],
            [
             0.3333333333333333,
             "#9c179e"
            ],
            [
             0.4444444444444444,
             "#bd3786"
            ],
            [
             0.5555555555555556,
             "#d8576b"
            ],
            [
             0.6666666666666666,
             "#ed7953"
            ],
            [
             0.7777777777777778,
             "#fb9f3a"
            ],
            [
             0.8888888888888888,
             "#fdca26"
            ],
            [
             1,
             "#f0f921"
            ]
           ],
           "sequentialminus": [
            [
             0,
             "#0d0887"
            ],
            [
             0.1111111111111111,
             "#46039f"
            ],
            [
             0.2222222222222222,
             "#7201a8"
            ],
            [
             0.3333333333333333,
             "#9c179e"
            ],
            [
             0.4444444444444444,
             "#bd3786"
            ],
            [
             0.5555555555555556,
             "#d8576b"
            ],
            [
             0.6666666666666666,
             "#ed7953"
            ],
            [
             0.7777777777777778,
             "#fb9f3a"
            ],
            [
             0.8888888888888888,
             "#fdca26"
            ],
            [
             1,
             "#f0f921"
            ]
           ]
          },
          "colorway": [
           "#636efa",
           "#EF553B",
           "#00cc96",
           "#ab63fa",
           "#FFA15A",
           "#19d3f3",
           "#FF6692",
           "#B6E880",
           "#FF97FF",
           "#FECB52"
          ],
          "font": {
           "color": "#2a3f5f"
          },
          "geo": {
           "bgcolor": "white",
           "lakecolor": "white",
           "landcolor": "#E5ECF6",
           "showlakes": true,
           "showland": true,
           "subunitcolor": "white"
          },
          "hoverlabel": {
           "align": "left"
          },
          "hovermode": "closest",
          "mapbox": {
           "style": "light"
          },
          "paper_bgcolor": "white",
          "plot_bgcolor": "#E5ECF6",
          "polar": {
           "angularaxis": {
            "gridcolor": "white",
            "linecolor": "white",
            "ticks": ""
           },
           "bgcolor": "#E5ECF6",
           "radialaxis": {
            "gridcolor": "white",
            "linecolor": "white",
            "ticks": ""
           }
          },
          "scene": {
           "xaxis": {
            "backgroundcolor": "#E5ECF6",
            "gridcolor": "white",
            "gridwidth": 2,
            "linecolor": "white",
            "showbackground": true,
            "ticks": "",
            "zerolinecolor": "white"
           },
           "yaxis": {
            "backgroundcolor": "#E5ECF6",
            "gridcolor": "white",
            "gridwidth": 2,
            "linecolor": "white",
            "showbackground": true,
            "ticks": "",
            "zerolinecolor": "white"
           },
           "zaxis": {
            "backgroundcolor": "#E5ECF6",
            "gridcolor": "white",
            "gridwidth": 2,
            "linecolor": "white",
            "showbackground": true,
            "ticks": "",
            "zerolinecolor": "white"
           }
          },
          "shapedefaults": {
           "line": {
            "color": "#2a3f5f"
           }
          },
          "ternary": {
           "aaxis": {
            "gridcolor": "white",
            "linecolor": "white",
            "ticks": ""
           },
           "baxis": {
            "gridcolor": "white",
            "linecolor": "white",
            "ticks": ""
           },
           "bgcolor": "#E5ECF6",
           "caxis": {
            "gridcolor": "white",
            "linecolor": "white",
            "ticks": ""
           }
          },
          "title": {
           "x": 0.05
          },
          "xaxis": {
           "automargin": true,
           "gridcolor": "white",
           "linecolor": "white",
           "ticks": "",
           "title": {
            "standoff": 15
           },
           "zerolinecolor": "white",
           "zerolinewidth": 2
          },
          "yaxis": {
           "automargin": true,
           "gridcolor": "white",
           "linecolor": "white",
           "ticks": "",
           "title": {
            "standoff": 15
           },
           "zerolinecolor": "white",
           "zerolinewidth": 2
          }
         }
        },
        "title": {
         "text": "Gantt de produção por máquina - 2025-08-25"
        },
        "xaxis": {
         "anchor": "y",
         "domain": [
          0,
          1
         ],
         "range": [
          "2025-08-25T07:00:00",
          "2025-08-25T18:00:00"
         ],
         "title": {
          "text": "Horário"
         },
         "type": "date"
        },
        "yaxis": {
         "anchor": "x",
         "domain": [
          0,
          1
         ],
         "title": {
          "text": "Máquina | Posição"
         }
        }
       }
      }
     },
     "metadata": {},
     "output_type": "display_data"
    }
   ],
   "source": [
    "import pandas as pd\n",
    "from datetime import datetime, time\n",
    "import plotly.express as px\n",
    "\n",
    "caminho_parquet = \"data//RIOFER_BEAS_GANT.parquet\"\n",
    "selected_date = pd.to_datetime('today').date()\n",
    "selected_Maquinas = ['DBR 165']\n",
    "\n",
    "morning_start = time(7, 0)\n",
    "morning_end = time(11, 0)\n",
    "afternoon_start = time(13, 0)\n",
    "afternoon_end = time(18, 0)\n",
    "\n",
    "df = pd.read_parquet(caminho_parquet)\n",
    "for col in ['HoraInicial', 'HoraFim']:\n",
    "    if col in df.columns:\n",
    "        df[col] = pd.to_datetime(df[col])\n",
    "\n",
    "if selected_Maquinas is not None:\n",
    "    df = df[df['Maquina'].isin(selected_Maquinas)]\n",
    "\n",
    "def split_into_allowed_pieces(row, day_date):\n",
    "    start = row['HoraInicial']\n",
    "    end = row['HoraFim']\n",
    "    day_start_dt = pd.Timestamp.combine(day_date, time(0,0))\n",
    "    day_end_dt = day_start_dt + pd.Timedelta(days=1)\n",
    "\n",
    "    if end <= day_start_dt or start >= day_end_dt:\n",
    "        return []\n",
    "\n",
    "    start = max(start, day_start_dt)\n",
    "    end = min(end, day_end_dt)\n",
    "\n",
    "    pieces = []\n",
    "    periods = [\n",
    "        (pd.Timestamp.combine(day_date, morning_start), pd.Timestamp.combine(day_date, morning_end)),\n",
    "        (pd.Timestamp.combine(day_date, afternoon_start), pd.Timestamp.combine(day_date, afternoon_end))\n",
    "    ]\n",
    "\n",
    "    for p_start, p_end in periods:\n",
    "        s = max(start, p_start)\n",
    "        e = min(end, p_end)\n",
    "        if s < e:\n",
    "            pieces.append((s, e))\n",
    "    return pieces\n",
    "\n",
    "records = []\n",
    "\n",
    "day_date = pd.to_datetime(selected_date).date()\n",
    "\n",
    "for _, row in df.iterrows():\n",
    "    pos = row.get('Ordem', '')\n",
    "    Maquina = row.get('Maquina', 'Unknown')\n",
    "    Maquina_pos = f\"{Maquina} | Pos {pos}\"\n",
    "\n",
    "    pieces = split_into_allowed_pieces(row, day_date)\n",
    "    for (s, e) in pieces:\n",
    "        task = f\"{row.get('Ordem', '')} - {row.get('Codigo', '')}\"\n",
    "        records.append({\n",
    "            'Maquina': Maquina,\n",
    "            'Ordem': pos,\n",
    "            'Maquina_Pos': Maquina_pos,\n",
    "            'Task': task,\n",
    "            'Start': s,\n",
    "            'Finish': e,\n",
    "            'Ordem': row.get('Ordem'),\n",
    "            'Codigo': row.get('Codigo'),\n",
    "            'Descricao': row.get('Descricao'),\n",
    "            'Quantidade': row.get('Quantidade')\n",
    "        })\n",
    "\n",
    "gantt_df = pd.DataFrame.from_records(records)\n",
    "\n",
    "if gantt_df.empty:\n",
    "    print(f\"Nenhuma produção encontrada no dia {day_date} dentro do horário 07:00-18:00 (com pausa 11:00-13:00).\")\n",
    "else:\n",
    "    gantt_df['Maquina'] = gantt_df['Maquina'].astype(str)\n",
    "    gantt_df['Ordem'] = pd.to_numeric(gantt_df['Ordem'], errors='coerce')\n",
    "    gantt_df = gantt_df.sort_values(['Maquina', 'Ordem', 'Start'])\n",
    "\n",
    "    ordered_rows = gantt_df['Maquina_Pos'].unique().tolist()\n",
    "    gantt_df['Maquina_Pos'] = pd.Categorical(gantt_df['Maquina_Pos'], categories=ordered_rows, ordered=True)\n",
    "\n",
    "if not gantt_df.empty:\n",
    "    fig = px.timeline(\n",
    "        gantt_df,\n",
    "        x_start='Start',\n",
    "        x_end='Finish',\n",
    "        y='Maquina_Pos',\n",
    "        color='Ordem',\n",
    "        hover_data=['Task', 'Descricao', 'Quantidade', 'Codigo'],\n",
    "        title=f'Gantt de produção por máquina - {day_date}'\n",
    "    )\n",
    "\n",
    "    day_start = pd.Timestamp.combine(day_date, morning_start)\n",
    "    day_end = pd.Timestamp.combine(day_date, afternoon_end)\n",
    "    fig.update_layout(\n",
    "        xaxis_range=[day_start, day_end],\n",
    "        xaxis_title='Horário',\n",
    "        yaxis_title='Máquina | Posição',\n",
    "        legend_title='Ordem',\n",
    "        height=max(400, 30 * len(ordered_rows))\n",
    "    )\n",
    "\n",
    "    fig.update_traces(text=gantt_df['Task'], textposition='inside')\n",
    "\n",
    "    fig.show()\n"
   ]
  },
  {
   "cell_type": "code",
   "execution_count": 12,
   "id": "55908a06",
   "metadata": {},
   "outputs": [
    {
     "data": {
      "image/png": "[encoded data removed]",
      "text/plain": [
       "<Figure size 1000x600 with 2 Axes>"
      ]
     },
     "metadata": {},
     "output_type": "display_data"
    }
   ],
   "source": [
    "import matplotlib.pyplot as plt\n",
    "import numpy as np\n",
    "import pandas as pd\n",
    "import calendar\n",
    "import seaborn as sns\n",
    "\n",
    "ano = 2025\n",
    "mes = 8\n",
    "dias_mes = calendar.monthrange(ano, mes)[1]\n",
    "\n",
    "np.random.seed(42)\n",
    "producao = np.random.uniform(low=20, high=40, size=dias_mes) \n",
    "\n",
    "cal = calendar.monthcalendar(ano, mes)\n",
    "num_weeks = len(cal)\n",
    "\n",
    "data_matrix = np.full((num_weeks, 7), np.nan)\n",
    "text_matrix = [[\"\" for _ in range(7)] for _ in range(num_weeks)]\n",
    "\n",
    "day = 1\n",
    "for i, week in enumerate(cal):\n",
    "    for j, d in enumerate(week):\n",
    "        if d != 0:\n",
    "            if j in [5, 6]:\n",
    "                valor = 0.0\n",
    "            else:\n",
    "                valor = producao[day - 1]\n",
    "                day += 1\n",
    "            data_matrix[i, j] = valor\n",
    "            if valor == 0.0 :\n",
    "                text_matrix[i][j] = '- ton'\n",
    "            else:\n",
    "                text_matrix[i][j] = f\"{d}\\n{valor:.1f} ton\"\n",
    "\n",
    "\n",
    "plt.figure(figsize=(10, 6))\n",
    "ax = sns.heatmap(data_matrix, annot=text_matrix, fmt=\"\", cmap=\"YlOrBr\",\n",
    "                 linewidths=0, cbar=True)\n",
    "\n",
    "ax.set_xticklabels(['S', 'T', 'Q', 'Q', 'S', 'S', 'D'])\n",
    "ax.set_yticklabels([f\"Semana {i+1}\" for i in range(num_weeks)], rotation=0)\n",
    "plt.title(f\"Produção em {calendar.month_name[mes]} {ano}\", fontsize=14)\n",
    "plt.show()\n"
   ]
  },
  {
   "cell_type": "code",
   "execution_count": 57,
   "id": "820d08f1",
   "metadata": {},
   "outputs": [
    {
     "name": "stderr",
     "output_type": "stream",
     "text": [
      "C:\\Users\\carlos.eduardo\\AppData\\Local\\Temp\\ipykernel_9200\\2354394370.py:212: UserWarning: This figure includes Axes that are not compatible with tight_layout, so results might be incorrect.\n",
      "  fig.tight_layout(rect=[0, 0.01, 0.99, 0.99])\n"
     ]
    },
    {
     "data": {
      "image/png": "[encoded data removed]",
      "text/plain": [
       "<Figure size 2200x1200 with 5 Axes>"
      ]
     },
     "metadata": {},
     "output_type": "display_data"
    }
   ],
   "source": [
    "import matplotlib.pyplot as plt\n",
    "import seaborn as sns\n",
    "import pandas as pd\n",
    "import numpy as np\n",
    "from scipy.interpolate import make_interp_spline\n",
    "import matplotlib.patheffects as pe\n",
    "from matplotlib.ticker import FuncFormatter\n",
    "from matplotlib.patches import FancyBboxPatch\n",
    "\n",
    "try:\n",
    "    plt.rcParams['font.family'] = 'Segoe UI'\n",
    "except:\n",
    "    plt.rcParams['font.family'] = 'sans-serif'\n",
    "\n",
    "BACKGROUND_COLOR = '#F8F9FA'\n",
    "TITLE_COLOR = '#212529'\n",
    "SUBTITLE_COLOR = '#495057'\n",
    "PRIMARY_COLOR = '#005f73'\n",
    "SECONDARY_COLOR = \"#ebd774\"\n",
    "ACCENT_COLOR = '#ee9b00'\n",
    "NEGATIVE_COLOR = '#d90429'\n",
    "POSITIVE_COLOR = '#2a9d8f'\n",
    "NEUTRAL_COLOR = '#fbfbfb'\n",
    "\n",
    "# Dados de exemplo\n",
    "df = pd.DataFrame({\n",
    "    'Data': pd.to_datetime([\n",
    "        '2025-08-01','2025-08-04','2025-08-06','2025-08-07','2025-08-08',\n",
    "        '2025-08-11','2025-08-12','2025-08-13','2025-08-14','2025-08-15',\n",
    "        '2025-08-18','2025-08-19','2025-08-20','2025-08-21','2025-08-22',\n",
    "        '2025-08-25','2025-08-26','2025-08-27','2025-08-28'\n",
    "    ]),\n",
    "    'Faturado (R$)': [\n",
    "        414836.92, 348470.80, 332785.03, 478481.16, 652439.73,\n",
    "        545270.90, 506324.90, 638052.63, 546288.47, 345532.32, 240427.70,\n",
    "        354256.24, 447676.74, 372074.68, 680775.43, 473353.99, 500372.04,\n",
    "        470041, 332026.29\n",
    "    ],\n",
    "    'Peso (kg)': [\n",
    "        56593,45105,42896,65592,100653,77167,67802,89913,75256,47813,\n",
    "        33127,45114,60975,52342,98905,72477,70041,70041,50015\n",
    "    ],\n",
    "    'Desconto médio': [\n",
    "        8.7,6.4,7.1,11.0,4.5,7.4,6.4,8.3,7.6,4.1,7.4,5.4,11.7,5,6,8,5,7,5\n",
    "    ]\n",
    "})\n",
    "df['Preco_por_kg'] = df['Faturado (R$)'] / df['Peso (kg)']\n",
    "df['Data_Label'] = df['Data'].dt.strftime('%d/%m')\n",
    "\n",
    "x_orig = np.arange(len(df))\n",
    "\n",
    "def fmt_currency_int(v):\n",
    "    return f\"R${int(round(v)):,}\".replace(',', '.')\n",
    "\n",
    "fig = plt.figure(figsize=(22, 12), facecolor=BACKGROUND_COLOR)\n",
    "gs = fig.add_gridspec(3, 2, width_ratios=[4.4, 1], height_ratios=[4, 1, 1],\n",
    "                      hspace=0.25, wspace=0.15)\n",
    "\n",
    "ax1 = fig.add_subplot(gs[0, 0])\n",
    "ax3 = fig.add_subplot(gs[1, 0], sharex=ax1)\n",
    "ax4 = fig.add_subplot(gs[2, 0], sharex=ax1)\n",
    "for ax in (ax1, ax3, ax4):\n",
    "    ax.set_facecolor(BACKGROUND_COLOR)\n",
    "\n",
    "kpi_ax = fig.add_subplot(gs[:, 1])\n",
    "kpi_ax.set_facecolor(BACKGROUND_COLOR)\n",
    "kpi_ax.axis('off')\n",
    "\n",
    "# ✅ Gráfico 1: Barras (Peso)\n",
    "sns.barplot(x='Data_Label', y='Peso (kg)', data=df, ax=ax1, color=SECONDARY_COLOR, alpha=0.95, zorder=2)\n",
    "ax1.set_ylabel(None)\n",
    "ax1.tick_params(axis='y', labelleft=False, left=False)\n",
    "ax1.tick_params(axis='x', labelbottom=False)\n",
    "plt.setp(ax1.get_xticklabels(), visible=False)\n",
    "for spine in ax1.spines.values():\n",
    "    spine.set_visible(False)\n",
    "\n",
    "# ✅ Gráfico 1: Linha (Faturado)\n",
    "ax2 = ax1.twinx()\n",
    "spline_faturado = make_interp_spline(x_orig, df['Faturado (R$)'])\n",
    "x_smooth = np.linspace(x_orig.min(), x_orig.max(), 300)\n",
    "y_smooth_faturado = spline_faturado(x_smooth)\n",
    "ax2.plot(x_smooth, y_smooth_faturado, color=PRIMARY_COLOR, linewidth=3, zorder=3)\n",
    "for spine in ax2.spines.values():\n",
    "    spine.set_visible(False)\n",
    "ax2.tick_params(axis='y', labelright=False, right=False)\n",
    "\n",
    "# ✅ Remove marcador e texto \"Data_Label\"\n",
    "ax1.set_xlabel('')  # Remove qualquer rótulo residual\n",
    "# Nenhuma anotação de Data_Label será adicionada\n",
    "\n",
    "# ✅ Gráfico 2: Preço/kg\n",
    "spline_preco = make_interp_spline(x_orig, df['Preco_por_kg'])\n",
    "ax3.plot(x_smooth, spline_preco(x_smooth), color=ACCENT_COLOR, linewidth=2.2)\n",
    "ax3.set_ylabel('Preço/kg (R$)', fontsize=10, color=TITLE_COLOR, fontweight='bold')\n",
    "ax3.yaxis.set_major_formatter(FuncFormatter(lambda y, pos: f'{y:,.2f}'.replace(',', '.')))\n",
    "for sp in ax3.spines.values():\n",
    "    sp.set_visible(False)\n",
    "plt.setp(ax3.get_xticklabels(), visible=False)\n",
    "ax3.grid(axis='y', linestyle=':', alpha=0.7, color=NEUTRAL_COLOR)\n",
    "\n",
    "# ✅ Gráfico 3: Desconto (%)\n",
    "spline_desc = make_interp_spline(x_orig, df['Desconto médio'])\n",
    "ax4.plot(x_smooth, spline_desc(x_smooth), color=POSITIVE_COLOR, linewidth=2.2)\n",
    "ax4.set_ylabel('Desconto (%)', fontsize=10, color=TITLE_COLOR, fontweight='bold')\n",
    "ax4.yaxis.set_major_formatter(FuncFormatter(lambda y, pos: f'{y:.1f}%'))\n",
    "for sp in ax4.spines.values():\n",
    "    sp.set_visible(False)\n",
    "ax4.tick_params(axis='y', colors=SUBTITLE_COLOR, left=False)\n",
    "ax4.grid(axis='y', linestyle=':', alpha=0.7, color=NEUTRAL_COLOR)\n",
    "ax4.tick_params(axis='x', colors=SUBTITLE_COLOR)\n",
    "\n",
    "# Adiciona os textos aos gráficos\n",
    "max_peso = df['Peso (kg)'].max()\n",
    "ax1.set_xlim(-0.6, len(df)-0.4)\n",
    "for idx, row in df.iterrows():\n",
    "    ax1.text(idx, row['Peso (kg)'] + max_peso*0.02, f'{row[\"Peso (kg)\"]/1000:.1f}t',\n",
    "             ha='center', va='bottom', fontsize=9, color=TITLE_COLOR, fontweight='bold',\n",
    "             path_effects=[pe.withStroke(linewidth=3, foreground=BACKGROUND_COLOR)], zorder=10, clip_on=True)\n",
    "    ax2.text(idx, row['Faturado (R$)'] + df['Faturado (R$)'].max()*0.025,\n",
    "             fmt_currency_int(row['Faturado (R$)']), ha='center', va='bottom',\n",
    "             fontsize=9, color=PRIMARY_COLOR, fontweight='bold',\n",
    "             path_effects=[pe.withStroke(linewidth=3, foreground=BACKGROUND_COLOR)], zorder=11, clip_on=True)\n",
    "    ax3.text(idx, row['Preco_por_kg'] + 0.08, f'R${row[\"Preco_por_kg\"]:,.2f}'.replace(',', '.'),\n",
    "             ha='center', va='bottom', fontsize=8, color=TITLE_COLOR, fontweight='bold', clip_on=True)\n",
    "    ax4.text(idx, row['Desconto médio'] + 0.15, f'{row[\"Desconto médio\"]:.1f}%',\n",
    "             ha='center', va='bottom', fontsize=8, color=TITLE_COLOR, fontweight='bold', clip_on=True)\n",
    "\n",
    "for a in (ax1, ax2, ax3, ax4):\n",
    "    try:\n",
    "        a.minorticks_off()\n",
    "    except Exception:\n",
    "        pass\n",
    "    a.tick_params(which='both', length=0)\n",
    "\n",
    "# Lógica para os KPIs (sem alterações)\n",
    "total_faturado = df['Faturado (R$)'].sum()\n",
    "peso_total = df['Peso (kg)'].sum()\n",
    "preco_medio_kg = total_faturado / peso_total\n",
    "desconto_ponderado = (df['Desconto médio'] * df['Faturado (R$)']).sum() / df['Faturado (R$)'].sum()\n",
    "kpi_groups = {\n",
    "    'NF SAÍDA': {\n",
    "        'Valor': total_faturado, 'Peso': peso_total,\n",
    "        'Preço/kg': preco_medio_kg, 'Desconto Médio': desconto_ponderado,\n",
    "        'color': PRIMARY_COLOR\n",
    "    },\n",
    "    'CANCELAMENTOS': {\n",
    "        'Valor': 150234.50, 'Peso': 20150,\n",
    "        'Preço/kg': 7.45, 'Desconto Médio': 8.1,\n",
    "        'color': ACCENT_COLOR\n",
    "    },\n",
    "    'DEVOLUÇÕES': {\n",
    "        'Valor': 85400.75, 'Peso': 11500,\n",
    "        'Preço/kg': 7.42, 'Desconto Médio': 6.5,\n",
    "        'color': NEGATIVE_COLOR\n",
    "    }\n",
    "}\n",
    "valor_liquido = kpi_groups['NF SAÍDA']['Valor'] - kpi_groups['CANCELAMENTOS']['Valor'] - kpi_groups['DEVOLUÇÕES']['Valor']\n",
    "peso_liquido = kpi_groups['NF SAÍDA']['Peso'] - kpi_groups['CANCELAMENTOS']['Peso'] - kpi_groups['DEVOLUÇÕES']['Peso']\n",
    "preco_kg_liquido = valor_liquido / peso_liquido if peso_liquido > 0 else 0\n",
    "valor_desc_nfe = kpi_groups['NF SAÍDA']['Valor'] * kpi_groups['NF SAÍDA']['Desconto Médio']\n",
    "valor_desc_canc = kpi_groups['CANCELAMENTOS']['Valor'] * kpi_groups['CANCELAMENTOS']['Desconto Médio']\n",
    "valor_desc_dev = kpi_groups['DEVOLUÇÕES']['Valor'] * kpi_groups['DEVOLUÇÕES']['Desconto Médio']\n",
    "desconto_medio_liquido = (valor_desc_nfe - valor_desc_canc - valor_desc_dev) / valor_liquido if valor_liquido > 0 else 0\n",
    "kpi_total = {\n",
    "    'FATURAMENTO LÍQUIDO': {\n",
    "        'Valor': valor_liquido, 'Peso': peso_liquido,\n",
    "        'Preço/kg': preco_kg_liquido, 'Desconto Médio': desconto_medio_liquido,\n",
    "        'color': POSITIVE_COLOR\n",
    "    }\n",
    "}\n",
    "\n",
    "# Desenha os boxes dos KPIs (sem alterações)\n",
    "box_h = 0.16\n",
    "box_w = 0.96\n",
    "spacing = 0.03\n",
    "top_start = 0.98\n",
    "x_pos = 0.02\n",
    "all_kpis_to_plot = {**kpi_groups, **kpi_total}\n",
    "\n",
    "for i, (title, data) in enumerate(all_kpis_to_plot.items()):\n",
    "    y_pos = top_start - i * (box_h + spacing)\n",
    "    box = FancyBboxPatch((x_pos, y_pos - box_h), box_w, box_h,\n",
    "                         boxstyle=\"round,pad=0.01,rounding_size=0.01\",\n",
    "                         linewidth=1.5, edgecolor=data['color'], facecolor=BACKGROUND_COLOR,\n",
    "                         transform=kpi_ax.transAxes, zorder=20)\n",
    "    kpi_ax.add_patch(box)\n",
    "    kpi_ax.text(x_pos + 0.04, y_pos - 0.025, title,\n",
    "                transform=kpi_ax.transAxes, fontsize=12, color=data['color'],\n",
    "                weight='bold', zorder=21, va='top', ha='left')\n",
    "    sub_kpi_y_base = y_pos - 0.075\n",
    "    sub_kpi_positions = {\n",
    "        'Valor': (x_pos + 0.04, sub_kpi_y_base),\n",
    "        'Peso': (x_pos + 0.52, sub_kpi_y_base),\n",
    "        'Preço/kg': (x_pos + 0.04, sub_kpi_y_base - 0.05),\n",
    "        'Desconto Médio': (x_pos + 0.52, sub_kpi_y_base - 0.05),\n",
    "    }\n",
    "    formatted_values = {\n",
    "        'Valor': fmt_currency_int(data['Valor']),\n",
    "        'Peso': f\"{int(data['Peso']):,} kg\".replace(',', '.'),\n",
    "        'Preço/kg': f\"R${data['Preço/kg']:.2f}\".replace('.', ','),\n",
    "        'Desconto Médio': f\"{data['Desconto Médio']:.1f}%\"\n",
    "    }\n",
    "    for label, pos in sub_kpi_positions.items():\n",
    "        kpi_ax.text(pos[0], pos[1], label, transform=kpi_ax.transAxes,\n",
    "                    fontsize=8.5, color=SUBTITLE_COLOR, weight='bold', zorder=21,\n",
    "                    va='center', ha='left')\n",
    "        kpi_ax.text(pos[0], pos[1] - 0.02, formatted_values[label], transform=kpi_ax.transAxes,\n",
    "                    fontsize=11, color=TITLE_COLOR, weight='bold', zorder=21,\n",
    "                    va='top', ha='left')\n",
    "\n",
    "fig.tight_layout(rect=[0, 0.01, 0.99, 0.99])\n",
    "plt.show()"
   ]
  }
 ],
 "metadata": {
  "kernelspec": {
   "display_name": "env",
   "language": "python",
   "name": "python3"
  },
  "language_info": {
   "codemirror_mode": {
    "name": "ipython",
    "version": 3
   },
   "file_extension": ".py",
   "mimetype": "text/x-python",
   "name": "python",
   "nbconvert_exporter": "python",
   "pygments_lexer": "ipython3",
   "version": "3.13.5"
  }
 },
 "nbformat": 4,
 "nbformat_minor": 5
}
